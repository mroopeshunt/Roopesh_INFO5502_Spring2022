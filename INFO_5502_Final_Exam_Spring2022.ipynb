{
  "cells": [
    {
      "cell_type": "markdown",
      "metadata": {
        "id": "view-in-github",
        "colab_type": "text"
      },
      "source": [
        "<a href=\"https://colab.research.google.com/github/mroopeshunt/Roopesh_INFO5502_Spring2022/blob/main/INFO_5502_Final_Exam_Spring2022.ipynb\" target=\"_parent\"><img src=\"https://colab.research.google.com/assets/colab-badge.svg\" alt=\"Open In Colab\"/></a>"
      ]
    },
    {
      "cell_type": "markdown",
      "metadata": {
        "id": "TRTF1bt6Y7Ls"
      },
      "source": [
        "### INFO 5502 Final Exam (05/12/2022, 240 points in total)"
      ]
    },
    {
      "cell_type": "markdown",
      "metadata": {
        "id": "O3zIRAVyY7Lw"
      },
      "source": [
        "<span style='background:yellow'>**Question 1 (40 pt).**</span> We want to create a birthday frequency graph using the data on births in the United States, provided by the Centers for Disease Control (CDC). You can download the data from my GitHub link:https://github.com/unt-iialab/info5502-spring2022/blob/main/datasets/births.csv \n",
        "\n",
        "Please visualize the data as the following figure using python (you can use any data visualization packages):\n"
      ]
    },
    {
      "cell_type": "code",
      "execution_count": null,
      "metadata": {
        "id": "bY8PamLkY7Ly",
        "outputId": "80ed4b4c-922a-4aae-c3ee-fbd1e5ab3c3c"
      },
      "outputs": [
        {
          "data": {
            "text/html": [
              "<div>\n",
              "<style scoped>\n",
              "    .dataframe tbody tr th:only-of-type {\n",
              "        vertical-align: middle;\n",
              "    }\n",
              "\n",
              "    .dataframe tbody tr th {\n",
              "        vertical-align: top;\n",
              "    }\n",
              "\n",
              "    .dataframe thead th {\n",
              "        text-align: right;\n",
              "    }\n",
              "</style>\n",
              "<table border=\"1\" class=\"dataframe\">\n",
              "  <thead>\n",
              "    <tr style=\"text-align: right;\">\n",
              "      <th></th>\n",
              "      <th>year</th>\n",
              "      <th>month</th>\n",
              "      <th>day</th>\n",
              "      <th>gender</th>\n",
              "      <th>births</th>\n",
              "    </tr>\n",
              "  </thead>\n",
              "  <tbody>\n",
              "    <tr>\n",
              "      <th>0</th>\n",
              "      <td>1969</td>\n",
              "      <td>1</td>\n",
              "      <td>1.0</td>\n",
              "      <td>F</td>\n",
              "      <td>4046</td>\n",
              "    </tr>\n",
              "    <tr>\n",
              "      <th>1</th>\n",
              "      <td>1969</td>\n",
              "      <td>1</td>\n",
              "      <td>1.0</td>\n",
              "      <td>M</td>\n",
              "      <td>4440</td>\n",
              "    </tr>\n",
              "    <tr>\n",
              "      <th>2</th>\n",
              "      <td>1969</td>\n",
              "      <td>1</td>\n",
              "      <td>2.0</td>\n",
              "      <td>F</td>\n",
              "      <td>4454</td>\n",
              "    </tr>\n",
              "    <tr>\n",
              "      <th>3</th>\n",
              "      <td>1969</td>\n",
              "      <td>1</td>\n",
              "      <td>2.0</td>\n",
              "      <td>M</td>\n",
              "      <td>4548</td>\n",
              "    </tr>\n",
              "    <tr>\n",
              "      <th>4</th>\n",
              "      <td>1969</td>\n",
              "      <td>1</td>\n",
              "      <td>3.0</td>\n",
              "      <td>F</td>\n",
              "      <td>4548</td>\n",
              "    </tr>\n",
              "  </tbody>\n",
              "</table>\n",
              "</div>"
            ],
            "text/plain": [
              "   year  month  day gender  births\n",
              "0  1969      1  1.0      F    4046\n",
              "1  1969      1  1.0      M    4440\n",
              "2  1969      1  2.0      F    4454\n",
              "3  1969      1  2.0      M    4548\n",
              "4  1969      1  3.0      F    4548"
            ]
          },
          "execution_count": 41,
          "metadata": {},
          "output_type": "execute_result"
        }
      ],
      "source": [
        "#### You code here\n",
        "import pandas as pd\n",
        "import matplotlib.pyplot as plt\n",
        "%matplotlib inline\n",
        "plt.style.use('seaborn-whitegrid')\n",
        "import numpy as np\n",
        "\n",
        "data = pd.read_csv(\"https://raw.githubusercontent.com/unt-iialab/info5502-spring2022/main/datasets/births.csv\")\n",
        "data.head()\n"
      ]
    },
    {
      "cell_type": "code",
      "execution_count": null,
      "metadata": {
        "id": "N4muaVw1Y7L0",
        "outputId": "ed8ce6a8-7f29-4d61-822e-f99413583c62"
      },
      "outputs": [
        {
          "name": "stderr",
          "output_type": "stream",
          "text": [
            "C:\\Users\\maganti\\AppData\\Local\\Temp/ipykernel_3040/3568247250.py:5: SettingWithCopyWarning: \n",
            "A value is trying to be set on a copy of a slice from a DataFrame.\n",
            "Try using .loc[row_indexer,col_indexer] = value instead\n",
            "\n",
            "See the caveats in the documentation: https://pandas.pydata.org/pandas-docs/stable/user_guide/indexing.html#returning-a-view-versus-a-copy\n",
            "  births['day'] = births['day'].astype(int)\n",
            "C:\\Users\\maganti\\AppData\\Local\\Temp/ipykernel_3040/3568247250.py:9: FutureWarning: The pandas.datetime class is deprecated and will be removed from pandas in a future version. Import from datetime module instead.\n",
            "  births_by_date.index = [pd.datetime(2012, month, day) for (month, day) in births_by_date.index]\n"
          ]
        },
        {
          "data": {
            "image/png": "[encoded data removed]",
            "text/plain": [
              "<Figure size 864x288 with 1 Axes>"
            ]
          },
          "metadata": {},
          "output_type": "display_data"
        }
      ],
      "source": [
        "quartiles = np.percentile(data['births'], [25, 50, 75])\n",
        "mu, sig = quartiles[1], 0.74 * (quartiles[2] - quartiles[0])\n",
        "births = data.query('(births > @mu - 5 * @sig) & (births < @mu + 5 * @sig)')\n",
        "\n",
        "births['day'] = births['day'].astype(int)\n",
        "\n",
        "births.index = pd.to_datetime(10000 * births.year + 100 * births.month + births.day, format='%Y%m%d')\n",
        "births_by_date = births.pivot_table('births', [births.index.month, births.index.day])\n",
        "births_by_date.index = [pd.datetime(2012, month, day) for (month, day) in births_by_date.index]\n",
        "\n",
        "fig, ax = plt.subplots(figsize=(12, 4))\n",
        "plt.title(\"USA births by day of year (1969 to 1988)\")\n",
        "plt.xlabel(\"Months\")\n",
        "births_by_date.plot(ax=ax);"
      ]
    },
    {
      "cell_type": "markdown",
      "metadata": {
        "id": "to7-cL1cY7L1"
      },
      "source": [
        "<span style='background:yellow'>**Question 2 (40 pt).**</span> Write a python program to evaluate the text classification performance using accuracy, precision, recall, and f1 score. \n",
        "\n",
        "Accuracy = (TP + TN) / (TP+ TN+ FP+ FN)\n",
        "\n",
        "Recall = (TP) / (TP+FN)\n",
        "\n",
        "Precision = (TP) / (TP+FP)\n",
        "\n",
        "F1 Score = (2*Precision*Recall) / (Precision + Recall)\n",
        "\n",
        "Here is the confusion matrix of a text classfication task (six categories) on the testing data. \n",
        "\n",
        "![SciBERT_cm.png](attachment:SciBERT_cm.png)"
      ]
    },
    {
      "cell_type": "code",
      "execution_count": null,
      "metadata": {
        "id": "BfmGs9tnY7L2",
        "outputId": "51a5195c-58c4-40c6-b5dd-287904dfbca5"
      },
      "outputs": [
        {
          "name": "stdout",
          "output_type": "stream",
          "text": [
            "For class 0\n",
            "Precision: 0.6738197424892703\n",
            "Recall: 0.585820895522388\n",
            "Accuracy: 0.8150346191889218\n",
            "F1 score: 0.626746506986028\n"
          ]
        }
      ],
      "source": [
        "#### You code here\n",
        "\n",
        "# For class 0\n",
        "\n",
        "import numpy as np\n",
        "\n",
        "TP = 157\n",
        "FP = 76\n",
        "TN = 667\n",
        "FN = 111\n",
        "\n",
        "Precision = TP/ (TP + FP)\n",
        "Recall = TP/ (TP + FN)\n",
        "\n",
        "Accuracy = (TP + TN) / (TP+ TN+ FP+ FN)\n",
        "\n",
        "F1_score = (2 * Precision * Recall)/ (Precision + Recall)\n",
        "\n",
        "print(\"For class 0\")\n",
        "print(\"Precision:\", Precision)\n",
        "print(\"Recall:\", Recall)\n",
        "print(\"Accuracy:\", Accuracy)\n",
        "print(\"F1 score:\", F1_score)"
      ]
    },
    {
      "cell_type": "code",
      "execution_count": null,
      "metadata": {
        "id": "Ag7YYyIOY7L4",
        "outputId": "a8455b44-9af7-40f7-a4f1-adc59d6c4fa6"
      },
      "outputs": [
        {
          "name": "stdout",
          "output_type": "stream",
          "text": [
            "For class 1\n",
            "Precision: 0.5613382899628253\n",
            "Recall: 0.611336032388664\n",
            "Accuracy: 0.5\n",
            "F1 score: 0.5852713178294574\n"
          ]
        }
      ],
      "source": [
        "#### You code here\n",
        "\n",
        "# For class 1\n",
        "\n",
        "import numpy as np\n",
        "\n",
        "TP = 151\n",
        "FP = 118\n",
        "TN = 63\n",
        "FN = 96\n",
        "\n",
        "Precision = TP/ (TP + FP)\n",
        "Recall = TP/ (TP + FN)\n",
        "\n",
        "Accuracy = (TP + TN) / (TP+ TN+ FP+ FN)\n",
        "\n",
        "F1_score = (2 * Precision * Recall)/ (Precision + Recall)\n",
        "\n",
        "print(\"For class 1\")\n",
        "print(\"Precision:\", Precision)\n",
        "print(\"Recall:\", Recall)\n",
        "print(\"Accuracy:\", Accuracy)\n",
        "print(\"F1 score:\", F1_score)"
      ]
    },
    {
      "cell_type": "code",
      "execution_count": null,
      "metadata": {
        "id": "QlLEbpIoY7L4",
        "outputId": "cc9716aa-bed8-4116-cac8-acd0e98cbcf7"
      },
      "outputs": [
        {
          "name": "stdout",
          "output_type": "stream",
          "text": [
            "For class 2\n",
            "Precision: 0.5555555555555556\n",
            "Recall: 0.6490384615384616\n",
            "Accuracy: 0.8199004975124378\n",
            "F1 score: 0.598669623059867\n"
          ]
        }
      ],
      "source": [
        "#### You code here\n",
        "\n",
        "# For class 2\n",
        "\n",
        "import numpy as np\n",
        "\n",
        "TP = 135\n",
        "FP = 108\n",
        "TN = 689\n",
        "FN = 73\n",
        "\n",
        "Precision = TP/ (TP + FP)\n",
        "Recall = TP/ (TP + FN)\n",
        "\n",
        "Accuracy = (TP + TN) / (TP+ TN+ FP+ FN)\n",
        "\n",
        "F1_score = (2 * Precision * Recall)/ (Precision + Recall)\n",
        "\n",
        "print(\"For class 2\")\n",
        "print(\"Precision:\", Precision)\n",
        "print(\"Recall:\", Recall)\n",
        "print(\"Accuracy:\", Accuracy)\n",
        "print(\"F1 score:\", F1_score)"
      ]
    },
    {
      "cell_type": "code",
      "execution_count": null,
      "metadata": {
        "id": "BazKZPY6Y7L5",
        "outputId": "0f92e012-1fc1-4e93-d476-589aff2c128d"
      },
      "outputs": [
        {
          "name": "stdout",
          "output_type": "stream",
          "text": [
            "For class 3\n",
            "Precision: 0.5147058823529411\n",
            "Recall: 0.5645161290322581\n",
            "Accuracy: 0.8805970149253731\n",
            "F1 score: 0.5384615384615384\n"
          ]
        }
      ],
      "source": [
        "#### You code here\n",
        "\n",
        "# For class 3\n",
        "\n",
        "import numpy as np\n",
        "\n",
        "TP = 70\n",
        "FP = 66\n",
        "TN = 815\n",
        "FN = 54\n",
        "\n",
        "Precision = TP/ (TP + FP)\n",
        "Recall = TP/ (TP + FN)\n",
        "\n",
        "Accuracy = (TP + TN) / (TP+ TN+ FP+ FN)\n",
        "\n",
        "F1_score = (2 * Precision * Recall)/ (Precision + Recall)\n",
        "\n",
        "print(\"For class 3\")\n",
        "print(\"Precision:\", Precision)\n",
        "print(\"Recall:\", Recall)\n",
        "print(\"Accuracy:\", Accuracy)\n",
        "print(\"F1 score:\", F1_score)"
      ]
    },
    {
      "cell_type": "code",
      "execution_count": null,
      "metadata": {
        "id": "K0z126eOY7L6",
        "outputId": "989944f0-d753-465d-aa20-d5a45e09945a"
      },
      "outputs": [
        {
          "name": "stdout",
          "output_type": "stream",
          "text": [
            "For class 4\n",
            "Precision: 0.6511627906976745\n",
            "Recall: 0.5333333333333333\n",
            "Accuracy: 0.9213930348258706\n",
            "F1 score: 0.5863874345549738\n"
          ]
        }
      ],
      "source": [
        "#### You code here\n",
        "\n",
        "# For class 4\n",
        "\n",
        "import numpy as np\n",
        "\n",
        "TP = 56\n",
        "FP = 30\n",
        "TN = 870\n",
        "FN = 49\n",
        "\n",
        "Precision = TP/ (TP + FP)\n",
        "Recall = TP/ (TP + FN)\n",
        "\n",
        "Accuracy = (TP + TN) / (TP+ TN+ FP+ FN)\n",
        "\n",
        "F1_score = (2 * Precision * Recall)/ (Precision + Recall)\n",
        "\n",
        "print(\"For class 4\")\n",
        "print(\"Precision:\", Precision)\n",
        "print(\"Recall:\", Recall)\n",
        "print(\"Accuracy:\", Accuracy)\n",
        "print(\"F1 score:\", F1_score)"
      ]
    },
    {
      "cell_type": "code",
      "execution_count": null,
      "metadata": {
        "id": "4lIV_TJIY7L7",
        "outputId": "6e361469-d18a-4cbf-a1c0-0afc15866be8"
      },
      "outputs": [
        {
          "name": "stdout",
          "output_type": "stream",
          "text": [
            "For class 5\n",
            "Precision: 0.42105263157894735\n",
            "Recall: 0.3137254901960784\n",
            "Accuracy: 0.9432835820895522\n",
            "F1 score: 0.3595505617977528\n"
          ]
        }
      ],
      "source": [
        "#### You code here\n",
        "\n",
        "# For class 5\n",
        "\n",
        "import numpy as np\n",
        "\n",
        "TP = 16\n",
        "FP = 22\n",
        "TN = 932\n",
        "FN = 35\n",
        "\n",
        "Precision = TP/ (TP + FP)\n",
        "Recall = TP/ (TP + FN)\n",
        "\n",
        "Accuracy = (TP + TN) / (TP+ TN+ FP+ FN)\n",
        "\n",
        "F1_score = (2 * Precision * Recall)/ (Precision + Recall)\n",
        "\n",
        "print(\"For class 5\")\n",
        "print(\"Precision:\", Precision)\n",
        "print(\"Recall:\", Recall)\n",
        "print(\"Accuracy:\", Accuracy)\n",
        "print(\"F1 score:\", F1_score)"
      ]
    },
    {
      "cell_type": "code",
      "execution_count": null,
      "metadata": {
        "id": "S73GoI6qY7L9"
      },
      "outputs": [],
      "source": [
        ""
      ]
    },
    {
      "cell_type": "code",
      "execution_count": null,
      "metadata": {
        "id": "TRMTQ-3pY7L_"
      },
      "outputs": [],
      "source": [
        ""
      ]
    },
    {
      "cell_type": "code",
      "execution_count": null,
      "metadata": {
        "id": "JdqtuSRfY7MA"
      },
      "outputs": [],
      "source": [
        ""
      ]
    },
    {
      "cell_type": "code",
      "execution_count": null,
      "metadata": {
        "id": "WfbbOE1VY7MB"
      },
      "outputs": [],
      "source": [
        ""
      ]
    },
    {
      "cell_type": "markdown",
      "metadata": {
        "id": "YSTJORQ9Y7MC"
      },
      "source": [
        "<span style='background:yellow'>**Question 3 (100 pt, each sub-question is 10 pt).**</span> \n",
        "\n",
        "Part A: Given Inetd dataset, an intrusion detection dataset that contains 2 columns. The first column represents a process ID number (PID) and the second column represents a system call. The goal is to extract the entire system call sequence by its PID, then tokenize and parse each sequence into 25-grams. After this, we’ll split the data into training and testing sets. Next, we ensure data quality in the training dataset by removing duplicate sequences within each class and overlapped sequences between both classes. To ensure a fair evaluation, we also clean the testing set by repeating the previous step. You will implement a Decision Tree model to train and test on the training set and testing set that we just clean. \n",
        "\n",
        "\n",
        "Part B: As the data type is sequential, we want to know how similar the sequences from both classes are and visualize how the similarity scores vary in different sequence lengths. Compute a cosine similarity score of 100 random pairs from both classes and get a median cosine similarity. Repeat this step in different sequence lengths (5, 10, 15, and 20). Plot a line chart to visualize how the median cosine similarities vary through sequence lengths of 5 to 25. \n",
        "\n",
        "You can download the datasets from github: https://github.com/unt-iialab/info5502-spring2022/tree/main/finalexam/q4\n",
        "\n",
        "\n",
        "Step by step instructions and questions:\n",
        "\n",
        "(1) Attached are the Normal and Intrusion data folders. Read in the data and store them in two separate dataframes. Combine the system calls (the second column) from the same PID (the first column) into a sequence or a string. \n",
        "\n",
        "(2) Parse an entire sequence into smaller sequences of size 25. (Hint: Use word_tokenize and ngrams from nltk library to parse).\n",
        "\n",
        "(3) Add labels to the data, and partition the labeled data into training data and testing data with a ratio of 70/30.\n",
        "\n",
        "(4) As the dataset has a lot of duplicate sequences, make sure that the testing data only contain unique sequences and that these sequences do not exist in the training data. Condense training data and testing data into two sets. Take the difference between the testing set and training set to remove the overlapped sequences from the testing data. \n",
        "\n",
        "(5) The sequences from each class can be repetitive, and some of these sequences may have different labels. Therefore, we need to remove the duplicate sequences within each class and the overlapped sequences from the Intrusion class. Start out by separating the Normal class and Intrusion class in the training data. Use the same concept in Question 4 to remove duplicate sequences and overlapped sequences from the training data.\n",
        "\n",
        "(6) Repeat Question 5 to clean the testing data.\n",
        "\n",
        "(7) Bootstrap the training data to get the same number of sequences from each class. Train and evaluate a Decision Tree model using the training data and testing data that we just clean. How is the performance?\n",
        "\n",
        "(8) Randomly sample 100 pairs of sequences from both classes and calculate the median cosine similarity.\n",
        "\n",
        "(9) Refer back to Question 2, parse the data into a length of 5, 10, 15, and 20. Clean the data from each class using Question 5. For each sequence length, calculate the median cosine similarity of 100 random pairs of sequences from both classes. \n",
        "\n",
        "(10) Plot a line chart to visualize how the median cosine similarities vary through different sequence lengths from 5 to 25.\n"
      ]
    },
    {
      "cell_type": "code",
      "execution_count": null,
      "metadata": {
        "id": "T8I4f9CzY7MS",
        "outputId": "adaf4324-6747-479d-f839-5d4fe88d9882"
      },
      "outputs": [
        {
          "name": "stdout",
          "output_type": "stream",
          "text": [
            "    167 90\n",
            "0  167 125\n",
            "1  167 125\n",
            "\n",
            "    167 90\n",
            "0  167 125\n",
            "1  167 125\n"
          ]
        }
      ],
      "source": [
        "#### You code here\n",
        "# 1.)\n",
        "import pandas as pd\n",
        "import numpy as np\n",
        "\n",
        "intrusion_data = pd.read_csv(\"https://raw.githubusercontent.com/unt-iialab/info5502-spring2022/main/finalexam/q4/inetd-intrusion.int\")\n",
        "normal_data = pd.read_csv(\"https://raw.githubusercontent.com/unt-iialab/info5502-spring2022/main/finalexam/q4/inetd-normal.int\")\n",
        "\n",
        "print(intrusion_data.head(2))\n",
        "print()\n",
        "print(normal_data.head(2))\n"
      ]
    },
    {
      "cell_type": "code",
      "execution_count": null,
      "metadata": {
        "id": "GiixmLGwY7MT"
      },
      "outputs": [],
      "source": [
        ""
      ]
    },
    {
      "cell_type": "code",
      "execution_count": null,
      "metadata": {
        "id": "XelsHTIgY7MU"
      },
      "outputs": [],
      "source": [
        ""
      ]
    },
    {
      "cell_type": "code",
      "execution_count": null,
      "metadata": {
        "id": "PFAP2ZxpY7MU"
      },
      "outputs": [],
      "source": [
        ""
      ]
    },
    {
      "cell_type": "code",
      "execution_count": null,
      "metadata": {
        "id": "ZmX3ACDbY7MU"
      },
      "outputs": [],
      "source": [
        ""
      ]
    },
    {
      "cell_type": "code",
      "execution_count": null,
      "metadata": {
        "id": "Wx1Jj_GBY7MV"
      },
      "outputs": [],
      "source": [
        ""
      ]
    },
    {
      "cell_type": "markdown",
      "metadata": {
        "id": "sk6GVM_ZY7MV"
      },
      "source": [
        "<span style='background:yellow'>**Question 4 (60 pt, each sub-question is 20 pt).**</span> In the world of business, the importance of the customers’ reviews for any product is not ignorable. The impact of customers’ reviews on customer’s decision making is significant. Therefore, businesses try to increase this impact by increasing the ratio of the positive reviews to negative reviews. One effective way to increase the ratio is offering the incentives such as small gifts or free next services to customers to post the reviews for item they purchase or used. However, it is not always the case, and customer may post their reviews without receiving or accepting the incentives. So, the reviews could be in either incentivized or non-incentivized category.\n",
        "\n",
        "\n",
        "Considering the importance of reviews, in this question you need to compare these two categories of reviews. One method to compare the effectiveness of two categories is conducting the A/B testing.\n",
        "\n",
        "\n",
        "The Software_Reviews dataset is collected from software review products, and it is combination of several small datasets. Find the dataset as an attachment on the left side of the page.\n",
        "\n",
        "\n",
        "You can downlaod the dataset from github: https://github.com/unt-iialab/info5502-spring2022/blob/main/finalexam/Software_Reviews_csv_files_S.csv\n",
        "\n",
        "(1) Clean the dataset before you use (You need to know this dataset is combinations of the several CSV files with title rows. So, there are extra title rows in the middle of the file, which they need to be removed.)\n",
        "\n",
        "\n",
        "(2) Apply an A/B test\": consider the “incentivized” column as main column for A & B groups.\n",
        "\n",
        "a. The “incentivized” column includes ‘NominalGift’, ‘VendorReferredIncentivized’, ‘NoIncentive’, ‘NonNominalGift’, ‘VendorReferred’, ‘None’\n",
        "\n",
        "b. Group A (Incentive): ‘NominalGift’, and ‘VendorReferredIncentivized’\n",
        "\n",
        "c. Group B (NoIncentive): ‘NoIncentive’, ‘NonNominalGift’, ‘VendorReferred’\n",
        "\n",
        "d. Make the decision if ‘None’ includes in either Group A or B or remove that.\n",
        "\n",
        "e. The “OverAllRating” is another column that is used to compare groups A and B.\n",
        "\n",
        "Which one A or B group has higher “OverAllRating”?\n",
        "\n",
        "\n",
        "(3) Draw the A/B testing related visualizations."
      ]
    },
    {
      "cell_type": "code",
      "execution_count": null,
      "metadata": {
        "id": "h-DYkbkSY7MW",
        "outputId": "7a463679-3365-4c7d-af09-016a2f065dcc"
      },
      "outputs": [
        {
          "data": {
            "text/plain": [
              "(2999, 28)"
            ]
          },
          "execution_count": 56,
          "metadata": {},
          "output_type": "execute_result"
        }
      ],
      "source": [
        "#### You code and your answer here here\n",
        "#1.)\n",
        "import pandas as pd\n",
        "import numpy as np\n",
        "\n",
        "data = pd.read_csv(\"https://raw.githubusercontent.com/unt-iialab/info5502-spring2022/main/finalexam/Software_Reviews_csv_files_S.csv\")\n",
        "\n",
        "data.columns\n",
        "\n",
        "#data['incentivized'].value_counts()\n",
        "data.shape"
      ]
    },
    {
      "cell_type": "markdown",
      "metadata": {
        "id": "YNEySNz_Y7MX"
      },
      "source": [
        "# dataset cleaning\n"
      ]
    },
    {
      "cell_type": "code",
      "execution_count": null,
      "metadata": {
        "id": "OpDEmn1CY7MY",
        "outputId": "f21706be-e5d2-4c8c-d76b-a056d7d3459b"
      },
      "outputs": [
        {
          "data": {
            "text/plain": [
              "(2988, 28)"
            ]
          },
          "execution_count": 97,
          "metadata": {},
          "output_type": "execute_result"
        }
      ],
      "source": [
        "# removing rows that are headers in between\n",
        "data = data[data['id'] != 'id']\n",
        "data.shape"
      ]
    },
    {
      "cell_type": "code",
      "execution_count": null,
      "metadata": {
        "id": "Se1utJHoY7MY",
        "outputId": "7a91335e-e711-4dc6-8466-a51472ed6d50"
      },
      "outputs": [
        {
          "data": {
            "text/plain": [
              "(1015,)"
            ]
          },
          "execution_count": 77,
          "metadata": {},
          "output_type": "execute_result"
        }
      ],
      "source": [
        "data[(data['incentivized'] == \"NominalGift\") | (data['incentivized'] == \"VendorReferredIncentivized\")]['OverAllRating'].shape"
      ]
    },
    {
      "cell_type": "code",
      "execution_count": null,
      "metadata": {
        "id": "I0f77PsyY7MY",
        "outputId": "701c0183-cddb-471e-a66d-59d699bbcfe8"
      },
      "outputs": [
        {
          "data": {
            "text/plain": [
              "(1306,)"
            ]
          },
          "execution_count": 78,
          "metadata": {},
          "output_type": "execute_result"
        }
      ],
      "source": [
        "data[(data['incentivized'] == \"NoIncentive\") | (data['incentivized'] == \"NonNominalGift\") | (data['incentivized'] == \"VendorReferred\")]['OverAllRating'].shape"
      ]
    },
    {
      "cell_type": "code",
      "execution_count": null,
      "metadata": {
        "id": "rAsWQGofY7MZ",
        "outputId": "ec98a8ec-e078-4c47-f51c-0c43b233b3cc"
      },
      "outputs": [
        {
          "data": {
            "text/plain": [
              "0.9951936259092429"
            ]
          },
          "execution_count": 83,
          "metadata": {},
          "output_type": "execute_result"
        }
      ],
      "source": [
        "data['OverAllRating'] = data['OverAllRating'].astype(\"int64\")\n",
        "#data['OverAllRating'].value_counts()\n",
        "#data['OverAllRating'].mean()\n",
        "np.var(data['OverAllRating'])"
      ]
    },
    {
      "cell_type": "code",
      "execution_count": null,
      "metadata": {
        "id": "unbKTUJuY7MZ",
        "outputId": "53dea274-5320-4a93-8351-1ce089ef1379"
      },
      "outputs": [
        {
          "name": "stdout",
          "output_type": "stream",
          "text": [
            "Test Statistics stat:  -3.7545568216338077\n",
            "Z-critical:  1.959963984540054\n",
            "P_value:  1.9998263515499213\n",
            "Confidence Interval of 2 sample Z-test for proportions:  [-0.22 -0.07]\n"
          ]
        },
        {
          "data": {
            "image/png": "[encoded data removed]",
            "text/plain": [
              "<Figure size 432x288 with 1 Axes>"
            ]
          },
          "metadata": {},
          "output_type": "display_data"
        }
      ],
      "source": [
        "import numpy as np\n",
        "from scipy.stats import norm\n",
        "\n",
        "group_a = data[(data['incentivized'] == \"NominalGift\") | (data['incentivized'] == \"VendorReferredIncentivized\")]['OverAllRating']#.shape\n",
        "group_b = data[(data['incentivized'] == \"NoIncentive\") | (data['incentivized'] == \"NonNominalGift\") | (data['incentivized'] == \"VendorReferred\")]['OverAllRating']#.shape\n",
        "\n",
        "N_con = group_a.shape[0]\n",
        "N_exp = group_b.shape[0]\n",
        "\n",
        "# Significance Level\n",
        "alpha = 0.05\n",
        "\n",
        "#X_A = np.random.randint(100, size = N_con)\n",
        "#X_B = np.random.randint(100, size = N_exp)\n",
        "\n",
        "# Calculating means of control and experimental groups\n",
        "mu_con = np.mean(group_a)\n",
        "mu_exp = np.mean(group_b)\n",
        "\n",
        "variance_con = np.var(group_a)\n",
        "variance_exp = np.var(group_b)\n",
        "\n",
        "# Pooled Variance\n",
        "pooled_variance = np.sqrt(variance_con/N_con + variance_exp/N_exp)\n",
        "\n",
        "# Test statistics\n",
        "T = (mu_con-mu_exp)/np.sqrt(variance_con/N_con + variance_exp/N_exp)\n",
        "\n",
        "# two sided test and using symmetry property of Normal distibution so we multiple with 2\n",
        "p_value = norm.sf(T)*2\n",
        "\n",
        "# Z-critical value\n",
        "Z_crit  = norm.ppf(1-alpha/2)\n",
        "\n",
        "# Margin of error\n",
        "m = Z_crit*pooled_variance\n",
        "\n",
        "# Confidence Interval\n",
        "CI = [(mu_con - mu_exp) - m, (mu_con - mu_exp) + m]\n",
        "\n",
        "\n",
        "print(\"Test Statistics stat: \", T)\n",
        "print(\"Z-critical: \", Z_crit)\n",
        "print(\"P_value: \", p_value)\n",
        "print(\"Confidence Interval of 2 sample Z-test for proportions: \", np.round(CI,2))\n",
        "\n",
        "import matplotlib.pyplot as plt\n",
        "z = np.arange(-3,3,  0.1)\n",
        "plt.plot(z, norm.pdf(z), label = 'Standard Normal Distribution',color = 'purple',linewidth = 2.5)\n",
        "plt.fill_between(z[z>Z_crit], norm.pdf(z[z>Z_crit]), label = 'Right Rejection Region',color ='y' )\n",
        "plt.fill_between(z[z<(-1)*Z_crit], norm.pdf(z[z<(-1)*Z_crit]), label = 'Left Rejection Region',color ='y' )\n",
        "plt.title(\"Two Sample Z-test rejection region\")\n",
        "plt.legend()\n",
        "plt.show()"
      ]
    },
    {
      "cell_type": "code",
      "execution_count": null,
      "metadata": {
        "id": "MpKQ6FbwY7Ma",
        "outputId": "82564788-fd09-4a11-c90f-86ae8a518dba"
      },
      "outputs": [
        {
          "data": {
            "text/plain": [
              "4.337931034482758"
            ]
          },
          "execution_count": 86,
          "metadata": {},
          "output_type": "execute_result"
        }
      ],
      "source": [
        "np.mean(group_a)\n"
      ]
    },
    {
      "cell_type": "code",
      "execution_count": null,
      "metadata": {
        "id": "xI4eeiakY7Mb",
        "outputId": "378b889c-f17b-4f64-e7c3-e8565446487b"
      },
      "outputs": [
        {
          "data": {
            "text/plain": [
              "4.481623277182236"
            ]
          },
          "execution_count": 85,
          "metadata": {},
          "output_type": "execute_result"
        }
      ],
      "source": [
        "np.mean(group_b)"
      ]
    },
    {
      "cell_type": "code",
      "execution_count": null,
      "metadata": {
        "id": "Ho_S5-QLY7Mb"
      },
      "outputs": [],
      "source": [
        ""
      ]
    }
  ],
  "metadata": {
    "kernelspec": {
      "display_name": "Python 3 (ipykernel)",
      "language": "python",
      "name": "python3"
    },
    "language_info": {
      "codemirror_mode": {
        "name": "ipython",
        "version": 3
      },
      "file_extension": ".py",
      "mimetype": "text/x-python",
      "name": "python",
      "nbconvert_exporter": "python",
      "pygments_lexer": "ipython3",
      "version": "3.9.7"
    },
    "colab": {
      "name": "INFO 5502-Final Exam-Spring2022.ipynb",
      "provenance": [],
      "collapsed_sections": [],
      "include_colab_link": true
    }
  },
  "nbformat": 4,
  "nbformat_minor": 0
}