{
  "cells": [
    {
      "cell_type": "markdown",
      "metadata": {
        "id": "view-in-github",
        "colab_type": "text"
      },
      "source": [
        "<a href=\"https://colab.research.google.com/github/mroopeshunt/Roopesh_INFO5502_Spring2022/blob/main/lab_assignment_06.ipynb\" target=\"_parent\"><img src=\"https://colab.research.google.com/assets/colab-badge.svg\" alt=\"Open In Colab\"/></a>"
      ]
    },
    {
      "cell_type": "markdown",
      "metadata": {
        "id": "fXt53uCUxoMO"
      },
      "source": [
        "## The sixth Lab-assignment (03/24/2022, 50 points in total)"
      ]
    },
    {
      "cell_type": "markdown",
      "metadata": {
        "id": "5IOvsE6bxoMY"
      },
      "source": [
        "The purpose of this exercise is to build a simple predicition model which can helpyou understand the workflow of machine learning. "
      ]
    },
    {
      "cell_type": "markdown",
      "metadata": {
        "id": "ohngA_eexoMZ"
      },
      "source": [
        "### Task Decription "
      ]
    },
    {
      "cell_type": "markdown",
      "metadata": {
        "id": "s8SavkxMxoMb"
      },
      "source": [
        "The goal of this assignment is to predict bike share use, given the hour, day, and information about the weather. Companies like Divvy try to predict how much demand there will be for bikes on any given day to allocate resources to redistribute bikes so that, ideally, very few bike stations are ever full (when you can’t park your bike) or empty (when you can’t pick up a bike if you want to).\n",
        "\n",
        "The data (link: https://github.com/unt-iialab/info5502-spring2022/tree/main/datasets/lab_assignment_06) in Github provides detailed information on the data set and necessary downloads."
      ]
    },
    {
      "cell_type": "markdown",
      "metadata": {
        "id": "IobQiooYxoMd"
      },
      "source": [
        "### Data Description"
      ]
    },
    {
      "cell_type": "markdown",
      "metadata": {
        "id": "Wm5alWcXxoMf"
      },
      "source": [
        "You are provided hourly rental data spanning two years (link: https://github.com/unt-iialab/info5502-spring2022/tree/main/datasets/lab_assignment_06). For this task, the training set is comprised of the first 16 days of each month, while the test set is the 17-19th day of the month. You must predict the total count of bikes rented during each hour covered by the test set, using only information available prior to the rental period. That is, predict \"count\" without using \"count\" or its components \"casual\" and \"registered\".\n",
        "\n",
        "Data Fields\n",
        "\n",
        "datetime - hourly date + timestamp\n",
        "\n",
        "season - 1 = spring, 2 = summer, 3 = fall, 4 = winter\n",
        "\n",
        "holiday - whether the day is considered a holiday\n",
        "\n",
        "workingday - whether the day is neither a weekend nor holiday\n",
        "\n",
        "weather -\n",
        "\n",
        "1 - Clear, Few clouds, Partly cloudy, Partly cloudy\n",
        "\n",
        "2 - Mist + Cloudy, Mist + Broken clouds, Mist + Few clouds, Mist\n",
        "\n",
        "3 - Light Snow, Light Rain + Thunderstorm + Scattered clouds, Light Rain + Scattered clouds\n",
        "\n",
        "4 - Heavy Rain + Ice Pallets + Thunderstorm + Mist, Snow + Fog\n",
        "\n",
        "temp - temperature in Celsius\n",
        "\n",
        "atemp - \"feels like\" temperature in Celsius\n",
        "\n",
        "humidity - relative humidity\n",
        "\n",
        "windspeed - wind speed\n",
        "\n",
        "casual - number of non-registered user rentals initiated\n",
        "\n",
        "registered - number of registered user rentals initiated\n",
        "\n",
        "count - number of total rentals"
      ]
    },
    {
      "cell_type": "markdown",
      "metadata": {
        "id": "xj9Jam5DxoMj"
      },
      "source": [
        "### Output"
      ]
    },
    {
      "cell_type": "markdown",
      "metadata": {
        "id": "8vhJREWXxoMl"
      },
      "source": [
        "Submission Format\n",
        "\n",
        "Your output (a separate file) must have a header line and should be structured in the following format:\n",
        "\n",
        " datetime,count\n",
        " \n",
        " 2011-01-20 00:00:00,0 \n",
        " \n",
        " 2011-01-20 01:00:00,0\n",
        " \n",
        " 2011-01-20 02:00:00,0\n",
        " \n",
        " ...\n",
        " \n",
        "The tutorial code should demonstrate how to generate such a file from a very simple prediction model. Note, these prediction are to be done on the test file under the data tab, where you do not know the actual count, and should match the rows of the test file in count and order.\n",
        "\n",
        "Your predictions should be compared to the ground truth information (sample_prediction.csv). Score are calculated using Root Mean Squared Error (RMSE)."
      ]
    },
    {
      "cell_type": "markdown",
      "metadata": {
        "id": "dZuRzKOjxoMo"
      },
      "source": [
        "### Tips"
      ]
    },
    {
      "cell_type": "markdown",
      "metadata": {
        "id": "HV0cTVprxoMq"
      },
      "source": [
        "●\tAdd features: Pick columns/features from the data you already have. Or make a new feature from the ones you have. For example, the tutorial makes ‘hour’ from the datetime stamp, which seemed very useful. How about ‘month’?\n",
        "\n",
        "●\tModel selection: Try different models. Make sure they are regression models rather than classification models. Tip: random forest regression is a good, all around modeling strategy on complicated data sets.\n",
        "\n",
        "●\tModel tuning: Almost all regression models have parameters to tune (“hyperparameters”). E.g. polynomial regression has the degree of the polynomial (n = 1 for a line, n=2 for a quadratic fit, n=3 for a cubic fit…). Generally, one extreme makes the model too simple (e.g. a line for a curved set of points) and the other extreme makes the model overfit/be too complex, and usually the right choice is in between. For some models it is obvious what to tune (e.g. k for k nearest neighbors regression) and some don’t need much tuning with defaults that often work well. e.g. try changing the number of trees used in the random forest model!\n",
        "\n",
        "●\tCross validation: The tutorial has a simple way of separating training and test data, however, there are better ways of splitting training and test data. Look into cross validation techniques, which are more reliable than an arbitrary split of training and test data.\n",
        "\n",
        "●\tSeparate models for ...: Notice that count comes from just adding casual riders and registered riders. However, what if these two types of riders acted very differently? It might make sense to make two separate models and just add the results of both models together. This is also true for any subsets of your data that may behave wildly differently (e.g. create a separate model for each season?)"
      ]
    },
    {
      "cell_type": "markdown",
      "metadata": {
        "id": "b6CW-s87xoMt"
      },
      "source": [
        "### Your code"
      ]
    },
    {
      "cell_type": "code",
      "execution_count": null,
      "metadata": {
        "id": "8tiHrgyLxoMv",
        "outputId": "69b76502-4b29-4b28-fd08-8250b24a25c5"
      },
      "outputs": [
        {
          "data": {
            "text/html": [
              "<div>\n",
              "<style scoped>\n",
              "    .dataframe tbody tr th:only-of-type {\n",
              "        vertical-align: middle;\n",
              "    }\n",
              "\n",
              "    .dataframe tbody tr th {\n",
              "        vertical-align: top;\n",
              "    }\n",
              "\n",
              "    .dataframe thead th {\n",
              "        text-align: right;\n",
              "    }\n",
              "</style>\n",
              "<table border=\"1\" class=\"dataframe\">\n",
              "  <thead>\n",
              "    <tr style=\"text-align: right;\">\n",
              "      <th></th>\n",
              "      <th>datetime</th>\n",
              "      <th>season</th>\n",
              "      <th>holiday</th>\n",
              "      <th>workingday</th>\n",
              "      <th>weather</th>\n",
              "      <th>temp</th>\n",
              "      <th>atemp</th>\n",
              "      <th>humidity</th>\n",
              "      <th>windspeed</th>\n",
              "      <th>casual</th>\n",
              "      <th>registered</th>\n",
              "      <th>count</th>\n",
              "      <th>hour</th>\n",
              "      <th>day</th>\n",
              "      <th>month</th>\n",
              "    </tr>\n",
              "  </thead>\n",
              "  <tbody>\n",
              "    <tr>\n",
              "      <th>0</th>\n",
              "      <td>2011-01-01 00:00:00</td>\n",
              "      <td>1</td>\n",
              "      <td>0</td>\n",
              "      <td>0</td>\n",
              "      <td>1</td>\n",
              "      <td>9.84</td>\n",
              "      <td>14.395</td>\n",
              "      <td>81</td>\n",
              "      <td>0.0</td>\n",
              "      <td>3</td>\n",
              "      <td>13</td>\n",
              "      <td>16</td>\n",
              "      <td>0</td>\n",
              "      <td>1</td>\n",
              "      <td>1</td>\n",
              "    </tr>\n",
              "    <tr>\n",
              "      <th>1</th>\n",
              "      <td>2011-01-01 01:00:00</td>\n",
              "      <td>1</td>\n",
              "      <td>0</td>\n",
              "      <td>0</td>\n",
              "      <td>1</td>\n",
              "      <td>9.02</td>\n",
              "      <td>13.635</td>\n",
              "      <td>80</td>\n",
              "      <td>0.0</td>\n",
              "      <td>8</td>\n",
              "      <td>32</td>\n",
              "      <td>40</td>\n",
              "      <td>1</td>\n",
              "      <td>1</td>\n",
              "      <td>1</td>\n",
              "    </tr>\n",
              "    <tr>\n",
              "      <th>2</th>\n",
              "      <td>2011-01-01 02:00:00</td>\n",
              "      <td>1</td>\n",
              "      <td>0</td>\n",
              "      <td>0</td>\n",
              "      <td>1</td>\n",
              "      <td>9.02</td>\n",
              "      <td>13.635</td>\n",
              "      <td>80</td>\n",
              "      <td>0.0</td>\n",
              "      <td>5</td>\n",
              "      <td>27</td>\n",
              "      <td>32</td>\n",
              "      <td>2</td>\n",
              "      <td>1</td>\n",
              "      <td>1</td>\n",
              "    </tr>\n",
              "    <tr>\n",
              "      <th>3</th>\n",
              "      <td>2011-01-01 03:00:00</td>\n",
              "      <td>1</td>\n",
              "      <td>0</td>\n",
              "      <td>0</td>\n",
              "      <td>1</td>\n",
              "      <td>9.84</td>\n",
              "      <td>14.395</td>\n",
              "      <td>75</td>\n",
              "      <td>0.0</td>\n",
              "      <td>3</td>\n",
              "      <td>10</td>\n",
              "      <td>13</td>\n",
              "      <td>3</td>\n",
              "      <td>1</td>\n",
              "      <td>1</td>\n",
              "    </tr>\n",
              "    <tr>\n",
              "      <th>4</th>\n",
              "      <td>2011-01-01 04:00:00</td>\n",
              "      <td>1</td>\n",
              "      <td>0</td>\n",
              "      <td>0</td>\n",
              "      <td>1</td>\n",
              "      <td>9.84</td>\n",
              "      <td>14.395</td>\n",
              "      <td>75</td>\n",
              "      <td>0.0</td>\n",
              "      <td>0</td>\n",
              "      <td>1</td>\n",
              "      <td>1</td>\n",
              "      <td>4</td>\n",
              "      <td>1</td>\n",
              "      <td>1</td>\n",
              "    </tr>\n",
              "  </tbody>\n",
              "</table>\n",
              "</div>"
            ],
            "text/plain": [
              "             datetime  season  holiday  workingday  weather  temp   atemp  \\\n",
              "0 2011-01-01 00:00:00       1        0           0        1  9.84  14.395   \n",
              "1 2011-01-01 01:00:00       1        0           0        1  9.02  13.635   \n",
              "2 2011-01-01 02:00:00       1        0           0        1  9.02  13.635   \n",
              "3 2011-01-01 03:00:00       1        0           0        1  9.84  14.395   \n",
              "4 2011-01-01 04:00:00       1        0           0        1  9.84  14.395   \n",
              "\n",
              "   humidity  windspeed  casual  registered  count  hour  day  month  \n",
              "0        81        0.0       3          13     16     0    1      1  \n",
              "1        80        0.0       8          32     40     1    1      1  \n",
              "2        80        0.0       5          27     32     2    1      1  \n",
              "3        75        0.0       3          10     13     3    1      1  \n",
              "4        75        0.0       0           1      1     4    1      1  "
            ]
          },
          "execution_count": 62,
          "metadata": {},
          "output_type": "execute_result"
        }
      ],
      "source": [
        "### You code here:\n",
        "from datetime import datetime\n",
        "import matplotlib.pyplot as plt\n",
        "%matplotlib inline\n",
        "import pandas as pd\n",
        "import numpy as np\n",
        "\n",
        "data = pd.read_csv(\"https://raw.githubusercontent.com/unt-iialab/info5502-spring2022/main/datasets/lab_assignment_06/train_luc.csv\")\n",
        "\n",
        "# converting datetime column to datetime datatype\n",
        "data['datetime']=pd.to_datetime(data.datetime)\n",
        "# we extract hour, day, month values from datetime\n",
        "data['hour'] = data['datetime'].dt.hour\n",
        "data['day'] = data['datetime'].dt.day\n",
        "data['month'] = data['datetime'].dt.month\n",
        "data.head()"
      ]
    },
    {
      "cell_type": "code",
      "execution_count": null,
      "metadata": {
        "id": "Dplr0-ynxoM1",
        "outputId": "6dd9245f-c55e-4f17-f31c-5cbf76706d1c"
      },
      "outputs": [
        {
          "data": {
            "text/plain": [
              "(9174, 15)"
            ]
          },
          "execution_count": 63,
          "metadata": {},
          "output_type": "execute_result"
        }
      ],
      "source": [
        "data.shape"
      ]
    },
    {
      "cell_type": "code",
      "execution_count": null,
      "metadata": {
        "id": "hayNNNybxoM2",
        "outputId": "c62be432-2de4-4a56-c4c8-f3d2b82de8b0"
      },
      "outputs": [
        {
          "name": "stdout",
          "output_type": "stream",
          "text": [
            "<class 'pandas.core.frame.DataFrame'>\n",
            "RangeIndex: 9174 entries, 0 to 9173\n",
            "Data columns (total 15 columns):\n",
            " #   Column      Non-Null Count  Dtype         \n",
            "---  ------      --------------  -----         \n",
            " 0   datetime    9174 non-null   datetime64[ns]\n",
            " 1   season      9174 non-null   int64         \n",
            " 2   holiday     9174 non-null   int64         \n",
            " 3   workingday  9174 non-null   int64         \n",
            " 4   weather     9174 non-null   int64         \n",
            " 5   temp        9174 non-null   float64       \n",
            " 6   atemp       9174 non-null   float64       \n",
            " 7   humidity    9174 non-null   int64         \n",
            " 8   windspeed   9174 non-null   float64       \n",
            " 9   casual      9174 non-null   int64         \n",
            " 10  registered  9174 non-null   int64         \n",
            " 11  count       9174 non-null   int64         \n",
            " 12  hour        9174 non-null   int64         \n",
            " 13  day         9174 non-null   int64         \n",
            " 14  month       9174 non-null   int64         \n",
            "dtypes: datetime64[ns](1), float64(3), int64(11)\n",
            "memory usage: 1.1 MB\n"
          ]
        }
      ],
      "source": [
        "data.info()"
      ]
    },
    {
      "cell_type": "code",
      "execution_count": null,
      "metadata": {
        "id": "fJnG9hrFxoM4",
        "outputId": "2cf447a4-de4c-42c4-98d5-56219d5ec22d"
      },
      "outputs": [
        {
          "data": {
            "text/plain": [
              "datetime      0\n",
              "season        0\n",
              "holiday       0\n",
              "workingday    0\n",
              "weather       0\n",
              "temp          0\n",
              "atemp         0\n",
              "humidity      0\n",
              "windspeed     0\n",
              "casual        0\n",
              "registered    0\n",
              "count         0\n",
              "hour          0\n",
              "day           0\n",
              "month         0\n",
              "dtype: int64"
            ]
          },
          "execution_count": 65,
          "metadata": {},
          "output_type": "execute_result"
        }
      ],
      "source": [
        "data.isna().sum()"
      ]
    },
    {
      "cell_type": "code",
      "execution_count": null,
      "metadata": {
        "id": "RSFHx78axoM5",
        "outputId": "564dee3b-fbc5-4aa5-9057-5a7bb7808dc7"
      },
      "outputs": [
        {
          "name": "stderr",
          "output_type": "stream",
          "text": [
            "C:\\Users\\maganti\\anaconda3\\lib\\site-packages\\seaborn\\_decorators.py:36: FutureWarning: Pass the following variable as a keyword arg: x. From version 0.12, the only valid positional argument will be `data`, and passing other arguments without an explicit keyword will result in an error or misinterpretation.\n",
            "  warnings.warn(\n"
          ]
        },
        {
          "data": {
            "image/png": "[encoded data removed]",
            "text/plain": [
              "<Figure size 864x504 with 1 Axes>"
            ]
          },
          "metadata": {
            "needs_background": "light"
          },
          "output_type": "display_data"
        }
      ],
      "source": [
        "import seaborn as sns\n",
        "plt.rcParams['figure.figsize'] = [12, 7]\n",
        "ax = sns.countplot(data['day'])\n",
        "ax.bar_label(ax.containers[0])\n",
        "plt.title(\"Count of bike rentals in each day\")\n",
        "plt.xlabel(\"Day\")\n",
        "plt.ylabel(\"Count of rentals\")\n",
        "plt.xticks(rotation=90)\n",
        "plt.show()"
      ]
    },
    {
      "cell_type": "markdown",
      "metadata": {
        "id": "lg2tI3izxoM7"
      },
      "source": [
        ". We observe that there are almost same no of rentals on all days"
      ]
    },
    {
      "cell_type": "code",
      "execution_count": null,
      "metadata": {
        "id": "oqNTniRYxoM7",
        "outputId": "1fa211db-0d10-416d-ca85-ad44ec553deb"
      },
      "outputs": [
        {
          "data": {
            "image/png": "[encoded data removed]",
            "text/plain": [
              "<Figure size 864x504 with 1 Axes>"
            ]
          },
          "metadata": {
            "needs_background": "light"
          },
          "output_type": "display_data"
        }
      ],
      "source": [
        "import seaborn as sns\n",
        "plt.rcParams['figure.figsize'] = [12, 7]\n",
        "data[['casual', 'registered']][:50].plot(kind='bar', stacked=True)\n",
        "plt.title(\"Stacked Barchart showing contribution of casual and registered bike rentals\")\n",
        "plt.xlabel(\"Day\")\n",
        "plt.ylabel(\"Total count of casual and registered\")\n",
        "plt.xticks(rotation=90)\n",
        "plt.show()"
      ]
    },
    {
      "cell_type": "markdown",
      "metadata": {
        "id": "hlXqdV4NxoM9"
      },
      "source": [
        ". We observe that from the first 50 records, the majority of the rentals are from the registered customers rather than the casual customers."
      ]
    },
    {
      "cell_type": "code",
      "execution_count": null,
      "metadata": {
        "id": "tNaCBWLIxoM9",
        "outputId": "7b6235d4-7be7-473e-c02a-c605a22a742d"
      },
      "outputs": [
        {
          "name": "stderr",
          "output_type": "stream",
          "text": [
            "C:\\Users\\maganti\\anaconda3\\lib\\site-packages\\seaborn\\_decorators.py:36: FutureWarning: Pass the following variables as keyword args: x, y. From version 0.12, the only valid positional argument will be `data`, and passing other arguments without an explicit keyword will result in an error or misinterpretation.\n",
            "  warnings.warn(\n"
          ]
        },
        {
          "data": {
            "image/png": "[encoded data removed]",
            "text/plain": [
              "<Figure size 504x360 with 1 Axes>"
            ]
          },
          "metadata": {
            "needs_background": "light"
          },
          "output_type": "display_data"
        }
      ],
      "source": [
        "import seaborn as sns\n",
        "# data['season'] = data['season'].astype('str')\n",
        "plt.rcParams['figure.figsize'] = [7, 5]\n",
        "# sns.barplot(data['season'])\n",
        "ax = sns.barplot('season', 'casual', data = data)\n",
        "#ax.bar_label(ax.containers[0])\n",
        "plt.title(\"Count of casual customers in different seasons\")\n",
        "plt.xlabel(\"Season\")\n",
        "plt.ylabel(\"Total count of casual customers\")\n",
        "plt.xticks(rotation=90)\n",
        "plt.show()"
      ]
    },
    {
      "cell_type": "code",
      "execution_count": null,
      "metadata": {
        "id": "h2uK9T_KxoM_",
        "outputId": "b7d385c6-46d5-4c50-ef0d-2606db61655f"
      },
      "outputs": [
        {
          "name": "stderr",
          "output_type": "stream",
          "text": [
            "C:\\Users\\maganti\\anaconda3\\lib\\site-packages\\seaborn\\_decorators.py:36: FutureWarning: Pass the following variable as a keyword arg: x. From version 0.12, the only valid positional argument will be `data`, and passing other arguments without an explicit keyword will result in an error or misinterpretation.\n",
            "  warnings.warn(\n"
          ]
        },
        {
          "data": {
            "image/png": "[encoded data removed]",
            "text/plain": [
              "<Figure size 504x360 with 1 Axes>"
            ]
          },
          "metadata": {
            "needs_background": "light"
          },
          "output_type": "display_data"
        }
      ],
      "source": [
        "ax = sns.countplot(data['workingday'])\n",
        "\n",
        "plt.xlabel('weekday')\n",
        "plt.ylabel('casual')\n",
        "plt.show()"
      ]
    },
    {
      "cell_type": "markdown",
      "metadata": {
        "id": "KfbZZdZIxoNA"
      },
      "source": [
        ". We can observe that the majority of the rentals are from the weekdays."
      ]
    },
    {
      "cell_type": "code",
      "execution_count": null,
      "metadata": {
        "id": "mFsZkBM-xoNB"
      },
      "outputs": [],
      "source": [
        "# we convert the below columns into categorical\n",
        "for i in ['season', 'weather', 'holiday', 'workingday']:\n",
        "    data[i] = data[i].astype('object')\n",
        "\n",
        "# Dummification of the below columns in the dataset\n",
        "one_hot_df = pd.get_dummies(data[['season', 'holiday', 'workingday', 'weather']])\n",
        "# we drop unnecessary columns\n",
        "X = data.drop(['datetime','casual','registered', 'season', 'holiday', 'workingday', 'weather', 'day', 'count'], axis=1)\n",
        "# we append the dummies data to the original data\n",
        "X = X.join(one_hot_df)\n",
        "# target column\n",
        "y = data['count']"
      ]
    },
    {
      "cell_type": "markdown",
      "metadata": {
        "id": "vjLyd8DKxoNC"
      },
      "source": [
        "# Cross Validation"
      ]
    },
    {
      "cell_type": "code",
      "execution_count": null,
      "metadata": {
        "id": "1eLm1DY5xoND",
        "outputId": "cd8388be-aa9b-463e-818f-e7418b9c13ed"
      },
      "outputs": [
        {
          "name": "stdout",
          "output_type": "stream",
          "text": [
            "train: [   1    2    4 ... 9170 9171 9173], test: [   0    3    5 ... 9163 9164 9172]\n",
            "train: [   0    2    3 ... 9170 9171 9172], test: [   1    8   14 ... 9157 9166 9173]\n",
            "train: [   0    1    2 ... 9171 9172 9173], test: [   4    7   11 ... 9159 9165 9168]\n",
            "train: [   0    1    2 ... 9171 9172 9173], test: [   9   12   13 ... 9152 9161 9167]\n",
            "train: [   0    1    3 ... 9168 9172 9173], test: [   2   30   36 ... 9169 9170 9171]\n"
          ]
        }
      ],
      "source": [
        "from sklearn.model_selection import KFold\n",
        "from sklearn.linear_model import LinearRegression\n",
        "from sklearn.metrics import mean_squared_error, r2_score\n",
        "# We split the dataset using Kfold cross validation\n",
        "kfold = KFold(n_splits=5, shuffle=True, random_state=None)\n",
        "for train, test in kfold.split(data):\n",
        "    print('train: %s, test: %s' % (train, test))"
      ]
    },
    {
      "cell_type": "markdown",
      "metadata": {
        "id": "PpyWvmJsxoNE"
      },
      "source": [
        "# Prediction of test dataset"
      ]
    },
    {
      "cell_type": "code",
      "execution_count": null,
      "metadata": {
        "id": "0xl2nQQBxoNF"
      },
      "outputs": [],
      "source": [
        "# load the test dataset\n",
        "test_data = pd.read_csv(\"https://raw.githubusercontent.com/unt-iialab/info5502-spring2022/main/datasets/lab_assignment_06/test_luc.csv\")\n",
        "# change the dataset type to datatime\n",
        "test_data['datetime'] = pd.to_datetime(test_data.datetime)\n",
        "# we extract the hour and month\n",
        "test_data['hour'] = test_data['datetime'].dt.hour\n",
        "test_data['month'] = test_data['datetime'].dt.month\n",
        "# convert the following columns datatype to categorical\n",
        "for i in ['season', 'weather', 'holiday', 'workingday']:\n",
        "    test_data[i] = test_data[i].astype('object')\n",
        "\n",
        "one_hot_test_data = pd.get_dummies(test_data[['season', 'holiday', 'workingday', 'weather']])\n",
        "test_data = test_data.drop(['datetime', 'season', 'holiday', 'workingday', 'weather'], axis=1)\n",
        "test_data = test_data.join(one_hot_test_data)"
      ]
    },
    {
      "cell_type": "code",
      "execution_count": null,
      "metadata": {
        "id": "T8G042tJxoNG"
      },
      "outputs": [],
      "source": [
        "# test data doesn't have weather category 4\n",
        "# we append that column\n",
        "test_data['weather_4'] = 0"
      ]
    },
    {
      "cell_type": "code",
      "execution_count": null,
      "metadata": {
        "id": "avyVegEFxoNG",
        "outputId": "0f35bc6b-866a-4d6d-9376-b3d135f5bf19"
      },
      "outputs": [
        {
          "name": "stdout",
          "output_type": "stream",
          "text": [
            "Index(['temp', 'atemp', 'humidity', 'windspeed', 'hour', 'month', 'season_1',\n",
            "       'season_2', 'season_3', 'season_4', 'holiday_0', 'holiday_1',\n",
            "       'workingday_0', 'workingday_1', 'weather_1', 'weather_2', 'weather_3',\n",
            "       'weather_4'],\n",
            "      dtype='object')\n",
            "Index(['temp', 'atemp', 'humidity', 'windspeed', 'hour', 'month', 'season_1',\n",
            "       'season_2', 'season_3', 'season_4', 'holiday_0', 'holiday_1',\n",
            "       'workingday_0', 'workingday_1', 'weather_1', 'weather_2', 'weather_3',\n",
            "       'weather_4'],\n",
            "      dtype='object')\n"
          ]
        }
      ],
      "source": [
        "print(test_data.columns)\n",
        "print(X.columns)"
      ]
    },
    {
      "cell_type": "markdown",
      "metadata": {
        "id": "jzvGZv5wxoNH"
      },
      "source": [
        "# Linear Regression"
      ]
    },
    {
      "cell_type": "code",
      "execution_count": null,
      "metadata": {
        "id": "k839eYJAxoNI",
        "outputId": "c9868537-01a6-4dfc-f9fd-9f07461e0370"
      },
      "outputs": [
        {
          "name": "stdout",
          "output_type": "stream",
          "text": [
            "RMSE: 142.5386861146345\n",
            "R2 Score: 0.3278747597765683\n"
          ]
        },
        {
          "data": {
            "text/plain": [
              "array([ 10.560914  ,  23.41505096,  23.76815817, ..., 256.71885449,\n",
              "       268.74439305, 259.85266038])"
            ]
          },
          "execution_count": 75,
          "metadata": {},
          "output_type": "execute_result"
        }
      ],
      "source": [
        "# Applying Linear Regression to find the customers count of Rentals\n",
        "lr = LinearRegression()\n",
        "lr.fit(X.iloc[train], y.iloc[train])\n",
        "lr_ypred = lr.predict(X.iloc[test])\n",
        "# finding mean square error\n",
        "mse = mean_squared_error(y.iloc[test], lr_ypred)\n",
        "print(\"RMSE:\", np.sqrt(mse))\n",
        "# finding R2 Score\n",
        "r_squared = r2_score(y.iloc[test], lr_ypred)\n",
        "print(\"R2 Score:\", r_squared)\n",
        "# predicting values\n",
        "lr_test_pred = lr.predict(test_data)\n",
        "lr_test_pred"
      ]
    },
    {
      "cell_type": "markdown",
      "metadata": {
        "id": "wW_9XDr9xoNJ"
      },
      "source": [
        "# DecisionTreeRegressor"
      ]
    },
    {
      "cell_type": "code",
      "execution_count": null,
      "metadata": {
        "id": "NkoH1K1jxoNJ",
        "outputId": "40979ed2-e257-4d13-ba4b-8b9990b86df3"
      },
      "outputs": [
        {
          "name": "stdout",
          "output_type": "stream",
          "text": [
            "RMSE: 84.92118274712858\n",
            "R2 Score: 0.761429483609568\n"
          ]
        },
        {
          "data": {
            "text/plain": [
              "array([ 25.,  42.,  42., ..., 123., 104., 148.])"
            ]
          },
          "execution_count": 76,
          "metadata": {},
          "output_type": "execute_result"
        }
      ],
      "source": [
        "from sklearn.tree import DecisionTreeRegressor\n",
        "# Using Decision Tree Regressor model to find the count values\n",
        "dtreg = DecisionTreeRegressor(random_state=211)\n",
        "dtreg.fit(X.iloc[train], y.iloc[train])\n",
        "dtreg_ypred = dtreg.predict(X.iloc[test])\n",
        "mse = mean_squared_error(y.iloc[test], dtreg_ypred)\n",
        "print(\"RMSE:\", np.sqrt(mse))\n",
        "r_squared = r2_score(y.iloc[test], dtreg_ypred)\n",
        "print(\"R2 Score:\", r_squared)\n",
        "dtreg_test_pred = dtreg.predict(test_data)\n",
        "dtreg_test_pred"
      ]
    },
    {
      "cell_type": "markdown",
      "metadata": {
        "id": "9aR0p7UZxoNK"
      },
      "source": [
        "# RandomForestRegressor"
      ]
    },
    {
      "cell_type": "code",
      "execution_count": null,
      "metadata": {
        "id": "S4IubZZHxoNL",
        "outputId": "534d7b9e-3a33-47d6-fb1d-1be1c0b53477"
      },
      "outputs": [
        {
          "name": "stdout",
          "output_type": "stream",
          "text": [
            "RMSE: 64.06848138391383\n",
            "R2 Score:  0.8642081946703437\n"
          ]
        },
        {
          "data": {
            "text/plain": [
              "array([ 42.39,  36.72,  29.83, ..., 160.47, 144.49,  92.24])"
            ]
          },
          "execution_count": 77,
          "metadata": {},
          "output_type": "execute_result"
        }
      ],
      "source": [
        "from sklearn.ensemble import RandomForestRegressor\n",
        "# using Random Forest Regressor to find the count values\n",
        "rfreg = RandomForestRegressor(random_state = 211)\n",
        "rfreg.fit(X.iloc[train], y.iloc[train])\n",
        "rfreg_ypred = rfreg.predict(X.iloc[test])\n",
        "mse = mean_squared_error(y.iloc[test], rfreg_ypred)\n",
        "print(\"RMSE:\", np.sqrt(mse))\n",
        "r_squared = r2_score(y.iloc[test], rfreg_ypred)\n",
        "print(\"R2 Score: \", r_squared)\n",
        "rfreg_test_pred = rfreg.predict(test_data)\n",
        "rfreg_test_pred"
      ]
    },
    {
      "cell_type": "code",
      "execution_count": null,
      "metadata": {
        "id": "quL6h9yCxoNM"
      },
      "outputs": [],
      "source": [
        "test_data = pd.read_csv(\"https://raw.githubusercontent.com/unt-iialab/info5502-spring2022/main/datasets/lab_assignment_06/test_luc.csv\")\n",
        "test_data['count'] = rfreg_test_pred"
      ]
    },
    {
      "cell_type": "code",
      "execution_count": null,
      "metadata": {
        "id": "dXoYN8v0xoNN",
        "outputId": "8f681f99-1ed9-4fe2-a247-c8fb36807937"
      },
      "outputs": [
        {
          "data": {
            "text/html": [
              "<div>\n",
              "<style scoped>\n",
              "    .dataframe tbody tr th:only-of-type {\n",
              "        vertical-align: middle;\n",
              "    }\n",
              "\n",
              "    .dataframe tbody tr th {\n",
              "        vertical-align: top;\n",
              "    }\n",
              "\n",
              "    .dataframe thead th {\n",
              "        text-align: right;\n",
              "    }\n",
              "</style>\n",
              "<table border=\"1\" class=\"dataframe\">\n",
              "  <thead>\n",
              "    <tr style=\"text-align: right;\">\n",
              "      <th></th>\n",
              "      <th>datetime</th>\n",
              "      <th>count</th>\n",
              "    </tr>\n",
              "  </thead>\n",
              "  <tbody>\n",
              "    <tr>\n",
              "      <th>0</th>\n",
              "      <td>2011-01-17 00:00:00</td>\n",
              "      <td>42.39</td>\n",
              "    </tr>\n",
              "    <tr>\n",
              "      <th>1</th>\n",
              "      <td>2011-01-17 01:00:00</td>\n",
              "      <td>36.72</td>\n",
              "    </tr>\n",
              "    <tr>\n",
              "      <th>2</th>\n",
              "      <td>2011-01-17 02:00:00</td>\n",
              "      <td>29.83</td>\n",
              "    </tr>\n",
              "    <tr>\n",
              "      <th>3</th>\n",
              "      <td>2011-01-17 03:00:00</td>\n",
              "      <td>15.99</td>\n",
              "    </tr>\n",
              "    <tr>\n",
              "      <th>4</th>\n",
              "      <td>2011-01-17 04:00:00</td>\n",
              "      <td>6.37</td>\n",
              "    </tr>\n",
              "    <tr>\n",
              "      <th>...</th>\n",
              "      <td>...</td>\n",
              "      <td>...</td>\n",
              "    </tr>\n",
              "    <tr>\n",
              "      <th>1707</th>\n",
              "      <td>2012-12-19 19:00:00</td>\n",
              "      <td>368.68</td>\n",
              "    </tr>\n",
              "    <tr>\n",
              "      <th>1708</th>\n",
              "      <td>2012-12-19 20:00:00</td>\n",
              "      <td>235.48</td>\n",
              "    </tr>\n",
              "    <tr>\n",
              "      <th>1709</th>\n",
              "      <td>2012-12-19 21:00:00</td>\n",
              "      <td>160.47</td>\n",
              "    </tr>\n",
              "    <tr>\n",
              "      <th>1710</th>\n",
              "      <td>2012-12-19 22:00:00</td>\n",
              "      <td>144.49</td>\n",
              "    </tr>\n",
              "    <tr>\n",
              "      <th>1711</th>\n",
              "      <td>2012-12-19 23:00:00</td>\n",
              "      <td>92.24</td>\n",
              "    </tr>\n",
              "  </tbody>\n",
              "</table>\n",
              "<p>1712 rows × 2 columns</p>\n",
              "</div>"
            ],
            "text/plain": [
              "                 datetime   count\n",
              "0     2011-01-17 00:00:00   42.39\n",
              "1     2011-01-17 01:00:00   36.72\n",
              "2     2011-01-17 02:00:00   29.83\n",
              "3     2011-01-17 03:00:00   15.99\n",
              "4     2011-01-17 04:00:00    6.37\n",
              "...                   ...     ...\n",
              "1707  2012-12-19 19:00:00  368.68\n",
              "1708  2012-12-19 20:00:00  235.48\n",
              "1709  2012-12-19 21:00:00  160.47\n",
              "1710  2012-12-19 22:00:00  144.49\n",
              "1711  2012-12-19 23:00:00   92.24\n",
              "\n",
              "[1712 rows x 2 columns]"
            ]
          },
          "execution_count": 79,
          "metadata": {},
          "output_type": "execute_result"
        }
      ],
      "source": [
        "test_data[['datetime', 'count']]"
      ]
    },
    {
      "cell_type": "code",
      "execution_count": null,
      "metadata": {
        "id": "yJQTy_CixoNO"
      },
      "outputs": [],
      "source": [
        "# since the RMSE is low for RF Regressor and R2 Score is less for RF Regressor\n",
        "# we save the predicted values from RF Regressor model\n",
        "test_df = test_data[['datetime','count']].to_csv('MRoopesh_prediction.csv', index=False, header=True)"
      ]
    },
    {
      "cell_type": "markdown",
      "metadata": {
        "id": "GECThF-5xoNO"
      },
      "source": [
        "# Building Seperate models for Casual and Registered customers"
      ]
    },
    {
      "cell_type": "markdown",
      "metadata": {
        "id": "mBibGpDjxoNP"
      },
      "source": [
        "# Prediction of Casual Customers"
      ]
    },
    {
      "cell_type": "code",
      "execution_count": null,
      "metadata": {
        "id": "N4LVgTu4xoNQ"
      },
      "outputs": [],
      "source": [
        "X = data.drop(['datetime','casual','registered', 'season', 'holiday', 'workingday', 'weather', 'day', 'count'], axis=1)\n",
        "X = X.join(one_hot_df)\n",
        "y = data['casual']"
      ]
    },
    {
      "cell_type": "code",
      "execution_count": null,
      "metadata": {
        "id": "t_QuSzRrxoNQ"
      },
      "outputs": [],
      "source": [
        "test_data = pd.read_csv(\"https://raw.githubusercontent.com/unt-iialab/info5502-spring2022/main/datasets/lab_assignment_06/test_luc.csv\")\n",
        "\n",
        "test_data['datetime'] = pd.to_datetime(test_data.datetime)\n",
        "\n",
        "test_data['hour'] = test_data['datetime'].dt.hour\n",
        "#test_data['day'] = test_data['datetime'].dt.day\n",
        "test_data['month'] = test_data['datetime'].dt.month\n",
        "\n",
        "for i in ['season', 'weather', 'holiday', 'workingday']:\n",
        "    test_data[i] = test_data[i].astype('object')\n",
        "\n",
        "one_hot_test_data = pd.get_dummies(test_data[['season', 'holiday', 'workingday', 'weather']])\n",
        "test_data = test_data.drop(['datetime', 'season', 'holiday', 'workingday', 'weather'], axis=1)\n",
        "test_data = test_data.join(one_hot_test_data)"
      ]
    },
    {
      "cell_type": "code",
      "execution_count": null,
      "metadata": {
        "id": "jJOlvQD3xoNR"
      },
      "outputs": [],
      "source": [
        "test_data['weather_4'] = 0"
      ]
    },
    {
      "cell_type": "markdown",
      "metadata": {
        "id": "Zf9b9_sQxoNS"
      },
      "source": [
        "# Casual Customers count prediction using Linear Regression"
      ]
    },
    {
      "cell_type": "code",
      "execution_count": null,
      "metadata": {
        "id": "Cd6JWRNrxoNS",
        "outputId": "c85aa687-2f20-48f6-fcd8-d57d5fe4d92c"
      },
      "outputs": [
        {
          "name": "stdout",
          "output_type": "stream",
          "text": [
            "RMSE: 35.54028279899937\n",
            "R2 Score: 0.45531932725657487\n"
          ]
        },
        {
          "data": {
            "text/plain": [
              "array([12.48404962, 15.78452927, 13.85818885, ..., 18.29070089,\n",
              "       22.56013653, 17.63770813])"
            ]
          },
          "execution_count": 84,
          "metadata": {},
          "output_type": "execute_result"
        }
      ],
      "source": [
        "# Using Lin Regression for predicting Casual customers\n",
        "lr = LinearRegression()\n",
        "lr.fit(X.iloc[train], y.iloc[train])\n",
        "lr_ypred = lr.predict(X.iloc[test])\n",
        "mse = mean_squared_error(y.iloc[test], lr_ypred)\n",
        "print(\"RMSE:\", np.sqrt(mse))\n",
        "r_squared = r2_score(y.iloc[test], lr_ypred)\n",
        "print(\"R2 Score:\", r_squared)\n",
        "lr_test_pred = lr.predict(test_data)\n",
        "lr_test_pred"
      ]
    },
    {
      "cell_type": "markdown",
      "metadata": {
        "id": "8Ac7dLsdxoNT"
      },
      "source": [
        "# Casual Customers count prediction using DecisionTreeRegressor"
      ]
    },
    {
      "cell_type": "code",
      "execution_count": null,
      "metadata": {
        "id": "jOoZiNVwxoNU",
        "outputId": "bba31e3b-194d-46e4-f8cf-cdb914848b0d"
      },
      "outputs": [
        {
          "name": "stdout",
          "output_type": "stream",
          "text": [
            "RMSE: 23.0634466983926\n",
            "R2 Score: 0.7706236551269163\n"
          ]
        },
        {
          "data": {
            "text/plain": [
              "array([ 1.,  1.,  2., ...,  9., 10.,  3.])"
            ]
          },
          "execution_count": 85,
          "metadata": {},
          "output_type": "execute_result"
        }
      ],
      "source": [
        "from sklearn.tree import DecisionTreeRegressor\n",
        "# Using DecisionTree Regressor for predicting Casual customers\n",
        "dtreg = DecisionTreeRegressor(random_state=211)\n",
        "dtreg.fit(X.iloc[train], y.iloc[train])\n",
        "dtreg_ypred = dtreg.predict(X.iloc[test])\n",
        "mse = mean_squared_error(y.iloc[test], dtreg_ypred)\n",
        "print(\"RMSE:\", np.sqrt(mse))\n",
        "r_squared = r2_score(y.iloc[test], dtreg_ypred)\n",
        "print(\"R2 Score:\", r_squared)\n",
        "dtreg_test_pred = dtreg.predict(test_data)\n",
        "dtreg_test_pred"
      ]
    },
    {
      "cell_type": "markdown",
      "metadata": {
        "id": "u2riMOtZxoNU"
      },
      "source": [
        "# Casual Customers count prediction using RandomForestRegressor"
      ]
    },
    {
      "cell_type": "code",
      "execution_count": null,
      "metadata": {
        "id": "KE1XV8kQxoNV",
        "outputId": "17e7fbc1-9cca-4567-f3bd-bd0c9cc78001"
      },
      "outputs": [
        {
          "name": "stdout",
          "output_type": "stream",
          "text": [
            "RMSE: 16.795890100830544\n",
            "R2 Score: 0.8783516408530669\n"
          ]
        },
        {
          "data": {
            "text/plain": [
              "array([ 2.82,  2.6 ,  3.32, ..., 10.77, 10.9 ,  8.06])"
            ]
          },
          "execution_count": 86,
          "metadata": {},
          "output_type": "execute_result"
        }
      ],
      "source": [
        "from sklearn.ensemble import RandomForestRegressor\n",
        "# Using RandomForest Regressor for predicting Casual customers\n",
        "rfreg = RandomForestRegressor(random_state = 211)\n",
        "rfreg.fit(X.iloc[train], y.iloc[train])\n",
        "rfreg_ypred = rfreg.predict(X.iloc[test])\n",
        "mse = mean_squared_error(y.iloc[test], rfreg_ypred)\n",
        "print(\"RMSE:\", np.sqrt(mse))\n",
        "r_squared = r2_score(y.iloc[test], rfreg_ypred)\n",
        "print(\"R2 Score:\", r_squared)\n",
        "rfreg_test_pred = rfreg.predict(test_data)\n",
        "rfreg_test_pred"
      ]
    },
    {
      "cell_type": "code",
      "execution_count": null,
      "metadata": {
        "id": "qmUsf2hqxoNW"
      },
      "outputs": [],
      "source": [
        "# since the RMSE is low for RF Regressor and R2 Score is less for RF Regressor\n",
        "# we save the predicted values from RF Regressor model\n",
        "test_data = pd.read_csv(\"https://raw.githubusercontent.com/unt-iialab/info5502-spring2022/main/datasets/lab_assignment_06/test_luc.csv\")\n",
        "test_data['count'] = rfreg_test_pred\n",
        "test_df = test_data[['datetime','count']].to_csv('MRoopesh_casual_customers_prediction.csv', index=False, header=True)"
      ]
    },
    {
      "cell_type": "markdown",
      "metadata": {
        "id": "wkLEo2huxoNX"
      },
      "source": [
        "# Prediction of Registered Customers"
      ]
    },
    {
      "cell_type": "code",
      "execution_count": null,
      "metadata": {
        "id": "rnO2_ImRxoNX"
      },
      "outputs": [],
      "source": [
        "X = data.drop(['datetime','casual','registered', 'season', 'holiday', 'workingday', 'weather', 'day', 'count'], axis=1)\n",
        "X = X.join(one_hot_df)\n",
        "y = data['registered']"
      ]
    },
    {
      "cell_type": "code",
      "execution_count": null,
      "metadata": {
        "id": "FawTqT__xoNY"
      },
      "outputs": [],
      "source": [
        "test_data = pd.read_csv(\"https://raw.githubusercontent.com/unt-iialab/info5502-spring2022/main/datasets/lab_assignment_06/test_luc.csv\")\n",
        "\n",
        "test_data['datetime'] = pd.to_datetime(test_data.datetime)\n",
        "\n",
        "test_data['hour'] = test_data['datetime'].dt.hour\n",
        "#test_data['day'] = test_data['datetime'].dt.day\n",
        "test_data['month'] = test_data['datetime'].dt.month\n",
        "\n",
        "for i in ['season', 'weather', 'holiday', 'workingday']:\n",
        "    test_data[i] = test_data[i].astype('object')\n",
        "\n",
        "one_hot_test_data = pd.get_dummies(test_data[['season', 'holiday', 'workingday', 'weather']])\n",
        "test_data = test_data.drop(['datetime', 'season', 'holiday', 'workingday', 'weather'], axis=1)\n",
        "test_data = test_data.join(one_hot_test_data)\n",
        "test_data['weather_4'] = 0"
      ]
    },
    {
      "cell_type": "markdown",
      "metadata": {
        "id": "2eOHuHwXxoNY"
      },
      "source": [
        "# Registered Customers count prediction using Linear Regression"
      ]
    },
    {
      "cell_type": "code",
      "execution_count": null,
      "metadata": {
        "id": "rN4gs5DhxoNZ",
        "outputId": "84bc987b-ad0b-4aad-8a40-922ec0756ee7"
      },
      "outputs": [
        {
          "name": "stdout",
          "output_type": "stream",
          "text": [
            "RMSE: 124.57076027598977\n",
            "R2 Score: 0.26060267733341647\n"
          ]
        },
        {
          "data": {
            "text/plain": [
              "array([ -1.92313562,   7.63052169,   9.90996932, ..., 238.4281536 ,\n",
              "       246.18425652, 242.21495224])"
            ]
          },
          "execution_count": 90,
          "metadata": {},
          "output_type": "execute_result"
        }
      ],
      "source": [
        "# using Linear Regression to find the registered customers count\n",
        "lr = LinearRegression()\n",
        "lr.fit(X.iloc[train], y.iloc[train])\n",
        "lr_ypred = lr.predict(X.iloc[test])\n",
        "mse = mean_squared_error(y.iloc[test], lr_ypred)\n",
        "print(\"RMSE:\", np.sqrt(mse))\n",
        "r_squared = r2_score(y.iloc[test], lr_ypred)\n",
        "print(\"R2 Score:\", r_squared)\n",
        "lr_test_pred = lr.predict(test_data)\n",
        "lr_test_pred"
      ]
    },
    {
      "cell_type": "markdown",
      "metadata": {
        "id": "7XA8re1axoNa"
      },
      "source": [
        "# Registered Customers count prediction using DecisionTreeRegressor"
      ]
    },
    {
      "cell_type": "code",
      "execution_count": null,
      "metadata": {
        "id": "vCBYeQuxxoNa",
        "outputId": "39aaa031-d89c-434d-b8c9-5d52f14b0a54"
      },
      "outputs": [
        {
          "name": "stdout",
          "output_type": "stream",
          "text": [
            "RMSE: 76.26552704951028\n",
            "R2 Score: 0.7228580965701039\n"
          ]
        },
        {
          "data": {
            "text/plain": [
              "array([ 50.,  32.,  32., ..., 193., 175., 176.])"
            ]
          },
          "execution_count": 91,
          "metadata": {},
          "output_type": "execute_result"
        }
      ],
      "source": [
        "from sklearn.tree import DecisionTreeRegressor\n",
        "# using Decision Tree Regressor to find the registered customers count\n",
        "dtreg = DecisionTreeRegressor(random_state=211)\n",
        "dtreg.fit(X.iloc[train], y.iloc[train])\n",
        "dtreg_ypred = dtreg.predict(X.iloc[test])\n",
        "mse = mean_squared_error(y.iloc[test], dtreg_ypred)\n",
        "print(\"RMSE:\", np.sqrt(mse))\n",
        "r_squared = r2_score(y.iloc[test], dtreg_ypred)\n",
        "print(\"R2 Score:\", r_squared)\n",
        "dtreg_test_pred = dtreg.predict(test_data)\n",
        "dtreg_test_pred"
      ]
    },
    {
      "cell_type": "markdown",
      "metadata": {
        "id": "_IpgItfWxoNb"
      },
      "source": [
        "# Registered Customers count prediction using RandomForestRegressor"
      ]
    },
    {
      "cell_type": "code",
      "execution_count": null,
      "metadata": {
        "id": "hUOADoMVxoNc",
        "outputId": "3002ccb9-6839-4044-98fe-88c42968d5c3"
      },
      "outputs": [
        {
          "name": "stdout",
          "output_type": "stream",
          "text": [
            "RMSE: 56.05752135957146\n",
            "R2 Score: 0.8502684136594434\n"
          ]
        },
        {
          "data": {
            "text/plain": [
              "array([ 40.19,  33.99,  24.87, ..., 143.91, 129.25, 102.17])"
            ]
          },
          "execution_count": 92,
          "metadata": {},
          "output_type": "execute_result"
        }
      ],
      "source": [
        "from sklearn.ensemble import RandomForestRegressor\n",
        "# using Random Forest Regressor to find the registered customers count\n",
        "rfreg = RandomForestRegressor(random_state = 211)\n",
        "rfreg.fit(X.iloc[train], y.iloc[train])\n",
        "rfreg_ypred = rfreg.predict(X.iloc[test])\n",
        "mse = mean_squared_error(y.iloc[test], rfreg_ypred)\n",
        "print(\"RMSE:\", np.sqrt(mse))\n",
        "r_squared = r2_score(y.iloc[test], rfreg_ypred)\n",
        "print(\"R2 Score:\",r_squared)\n",
        "rfreg_test_pred = rfreg.predict(test_data)\n",
        "rfreg_test_pred"
      ]
    },
    {
      "cell_type": "code",
      "execution_count": null,
      "metadata": {
        "id": "fFM8hRZPxoNd"
      },
      "outputs": [],
      "source": [
        "# since the RMSE is low for RF Regressor and R2 Score is less for RF Regressor\n",
        "# we save the predicted values from RF Regressor model\n",
        "test_data = pd.read_csv(\"https://raw.githubusercontent.com/unt-iialab/info5502-spring2022/main/datasets/lab_assignment_06/test_luc.csv\")\n",
        "test_data['count'] = rfreg_test_pred\n",
        "test_df = test_data[['datetime','count']].to_csv('MRoopesh_registered_customers_prediction.csv', index=False, header=True)"
      ]
    },
    {
      "cell_type": "code",
      "execution_count": null,
      "metadata": {
        "id": "V_G3UP5MxoNd"
      },
      "outputs": [],
      "source": [
        ""
      ]
    }
  ],
  "metadata": {
    "kernelspec": {
      "display_name": "Python 3 (ipykernel)",
      "language": "python",
      "name": "python3"
    },
    "language_info": {
      "codemirror_mode": {
        "name": "ipython",
        "version": 3
      },
      "file_extension": ".py",
      "mimetype": "text/x-python",
      "name": "python",
      "nbconvert_exporter": "python",
      "pygments_lexer": "ipython3",
      "version": "3.9.7"
    },
    "colab": {
      "name": "lab_assignment_06.ipynb",
      "provenance": [],
      "include_colab_link": true
    }
  },
  "nbformat": 4,
  "nbformat_minor": 0
}