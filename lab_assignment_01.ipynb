{
  "cells": [
    {
      "cell_type": "markdown",
      "metadata": {
        "id": "view-in-github",
        "colab_type": "text"
      },
      "source": [
        "<a href=\"https://colab.research.google.com/github/mroopeshunt/Roopesh_INFO5502_Spring2022/blob/main/lab_assignment_01.ipynb\" target=\"_parent\"><img src=\"https://colab.research.google.com/assets/colab-badge.svg\" alt=\"Open In Colab\"/></a>"
      ]
    },
    {
      "cell_type": "markdown",
      "metadata": {
        "id": "DymRJbxDBCnf"
      },
      "source": [
        "# **The first Lab-assignment (01/25/2022, 50 points in total)**"
      ]
    },
    {
      "cell_type": "markdown",
      "metadata": {
        "id": "jJDe71iLB616"
      },
      "source": [
        "(1) Write a Python program to count the number of characters in a string. (5 points)\n",
        "\n",
        "Sample String : 'google.com', \n",
        "\n",
        "Expected Result : {'o': 3, 'g': 2, '.': 1, 'e': 1, 'l': 1, 'm': 1, 'c': 1}"
      ]
    },
    {
      "cell_type": "code",
      "execution_count": 5,
      "metadata": {
        "id": "MtKskTzbCLaU",
        "colab": {
          "base_uri": "https://localhost:8080/"
        },
        "outputId": "70ee163d-1896-4788-ba3e-8fd06dfeccb6"
      },
      "outputs": [
        {
          "output_type": "stream",
          "name": "stdout",
          "text": [
            "Enter the Sample String: google.com\n",
            "{'g': 2, 'c': 1, 'e': 1, 'm': 1, '.': 1, 'l': 1, 'o': 3}\n"
          ]
        }
      ],
      "source": [
        "# write your answer here\n",
        "input_str = input(\"Enter the Sample String: \")\n",
        "result = {}\n",
        "for char in set(input_str):\n",
        "  # fetching count of each char and adding it to result dictionary\n",
        "  result[char] = input_str.count(char)\n",
        "\n",
        "print(result)"
      ]
    },
    {
      "cell_type": "markdown",
      "metadata": {
        "id": "55W9AMdXCSpV"
      },
      "source": [
        "(2) Write a Python program to sum all the items in a list. (5 points)"
      ]
    },
    {
      "cell_type": "code",
      "execution_count": 60,
      "metadata": {
        "id": "I57NXsauCec2",
        "colab": {
          "base_uri": "https://localhost:8080/"
        },
        "outputId": "e6d0db50-25fd-4d12-c890-134ccbca11c1"
      },
      "outputs": [
        {
          "output_type": "stream",
          "name": "stdout",
          "text": [
            "The sum of the elements in the list is: 15\n"
          ]
        }
      ],
      "source": [
        "# write your answer here\n",
        "input_list = [1, 2, 3, 4, 5]\n",
        "sum = 0\n",
        "for num in input_list:\n",
        " # Adding each num in the list\n",
        " sum = sum + num\n",
        "\n",
        "print(\"The sum of the elements in the list is: {}\".format(sum))"
      ]
    },
    {
      "cell_type": "markdown",
      "metadata": {
        "id": "4ulBZ6yhCi9F"
      },
      "source": [
        "(3) Write a Python program to get a string from a given string where all occurrences of its first char have been changed to '\\$', except the first char itself. (5 points)\n",
        "\n",
        "Sample String : 'restart', \n",
        "\n",
        "Expected Result : 'resta\\$t'"
      ]
    },
    {
      "cell_type": "code",
      "execution_count": 74,
      "metadata": {
        "id": "Fj0XhwbBCw2o",
        "colab": {
          "base_uri": "https://localhost:8080/"
        },
        "outputId": "e1dae538-420f-43ca-f422-43c5897a9ea4"
      },
      "outputs": [
        {
          "output_type": "stream",
          "name": "stdout",
          "text": [
            "resta*t\n"
          ]
        }
      ],
      "source": [
        "# write your answer here\n",
        "input_str = \"restart\"\n",
        "# replacing all occurences of first char except the first char itself...\n",
        "print(\"\".join((input_str[0], input_str[1:].replace(input_str[0], \"*\"))))"
      ]
    },
    {
      "cell_type": "markdown",
      "metadata": {
        "id": "_bIP7s1MCzue"
      },
      "source": [
        "(4) Write a program with python which could accept two parameter a and b to calculate and output the result of S, where \n",
        "\n",
        "$\\ S=3.14*(1+a/b)^3$ (5 points)\n",
        "\n"
      ]
    },
    {
      "cell_type": "code",
      "execution_count": 62,
      "metadata": {
        "id": "w79QilHXD3Mg",
        "colab": {
          "base_uri": "https://localhost:8080/"
        },
        "outputId": "5c4763e8-334b-49d9-a919-9924de223ada"
      },
      "outputs": [
        {
          "output_type": "stream",
          "name": "stdout",
          "text": [
            "Enter the a value: 4\n",
            "Enter the b value: 6\n",
            "The result is: 14.537037037037033\n"
          ]
        }
      ],
      "source": [
        "# write your answer here\n",
        "a = int(input(\"Enter the a value: \"))\n",
        "b = int(input(\"Enter the b value: \"))\n",
        "\n",
        "S = 3.14 * (1 + (a/b)) ** 3\n",
        "print(\"The result is: {}\".format(S))"
      ]
    },
    {
      "cell_type": "markdown",
      "metadata": {
        "id": "xCa2bK9aD4Q3"
      },
      "source": [
        "(5) Write a Python program to concatenate following dictionaries to create a new one. (5 points)\n",
        "\n",
        "Sample Dictionary : dic1={1:10, 2:20}, dic2={3:30, 4:40}, dic3={5:50,6:60}, \n",
        "\n",
        "Expected Result : {1: 10, 2: 20, 3: 30, 4: 40, 5: 50, 6: 60}\n"
      ]
    },
    {
      "cell_type": "code",
      "execution_count": 27,
      "metadata": {
        "id": "_z4aLqAbEET1",
        "colab": {
          "base_uri": "https://localhost:8080/"
        },
        "outputId": "a0b4ad81-a6c2-4b2d-d741-5629a01553f6"
      },
      "outputs": [
        {
          "output_type": "stream",
          "name": "stdout",
          "text": [
            "{1: 10, 2: 20, 3: 30, 4: 40, 5: 50, 6: 60}\n"
          ]
        }
      ],
      "source": [
        "# write your answer here\n",
        "dic1={1:10, 2:20}; dic2={3:30, 4:40}; dic3={5:50,6:60}\n",
        "\n",
        "result = {}\n",
        "for i in [dic1, dic2, dic3]:\n",
        "  # adding each dictionary to result dictionary\n",
        "  result.update(i)\n",
        "\n",
        "print(result)"
      ]
    },
    {
      "cell_type": "markdown",
      "metadata": {
        "id": "0v48Vqa7FrQh"
      },
      "source": [
        "(6) Write a Python program to check whether an element exists within a tuple. (5 points)"
      ]
    },
    {
      "cell_type": "code",
      "execution_count": 63,
      "metadata": {
        "id": "7WEmgq-DF2P1",
        "colab": {
          "base_uri": "https://localhost:8080/"
        },
        "outputId": "9212d186-73c3-4699-d33a-0356c34ed742"
      },
      "outputs": [
        {
          "output_type": "stream",
          "name": "stdout",
          "text": [
            "Enter an element you want to search in the tuple: sf\n",
            "The element is not present in the tuple!!!\n"
          ]
        }
      ],
      "source": [
        "# write your answer here\n",
        "sample_tuple = (\"university\", \"north texas\")\n",
        "\n",
        "element = input(\"Enter an element you want to search in the tuple: \")\n",
        "\n",
        "if element in sample_tuple:\n",
        "  print(\"The element is present in the tuple!!!\")\n",
        "else:\n",
        "  print(\"The element is not present in the tuple!!!\")"
      ]
    },
    {
      "cell_type": "markdown",
      "metadata": {
        "id": "vD5PYLMuGga_"
      },
      "source": [
        "(7) Write a Python program to find maximum and the minimum value in a set. (5 points)"
      ]
    },
    {
      "cell_type": "code",
      "execution_count": 43,
      "metadata": {
        "id": "t0D5kdJUGjjw",
        "colab": {
          "base_uri": "https://localhost:8080/"
        },
        "outputId": "afb453e0-eb8d-431d-d0bd-e9193543a003"
      },
      "outputs": [
        {
          "output_type": "stream",
          "name": "stdout",
          "text": [
            "Maximum value in the set is: 37\n",
            "Minimum value in the set is: 13\n"
          ]
        }
      ],
      "source": [
        "# write your answer here\n",
        "import sys\n",
        "input_set = {25, 36, 21, 19, 13, 34, 37}\n",
        "# uisng max(), min() built-in functions...\n",
        "print(\"Maximum value in the set is: {}\".format(max(input_set)))\n",
        "print(\"Minimum value in the set is: {}\".format(min(input_set)))"
      ]
    },
    {
      "cell_type": "markdown",
      "metadata": {
        "id": "uHkd-y5VhVWC"
      },
      "source": [
        "(8) Write a Python program to randomly divide the students in this class into six groups for term projects, each group should have at least 4 students but no more than 6 students (including 6). Here is the students list: (5 points)\n",
        "\n",
        "studnet_list = ['ja0964','sa1198','sb1357','vb0218','sc1229','kg0569','kg0470','sg1297','bg0320','fh0141','jl1252','sk1386',\n",
        "           'ak0956','sk1390','sk1458','sk1313','ak0934','vm0377','nm0618','sm1640','sm1907','gn0108','pr0353','dr0609','ms1500','aos0040','ds0814', 'av0659','nv0234','hy0232']"
      ]
    },
    {
      "cell_type": "code",
      "execution_count": 102,
      "metadata": {
        "id": "3iGbmcOBhTwy",
        "colab": {
          "base_uri": "https://localhost:8080/"
        },
        "outputId": "310cb9d8-c140-45ff-be9e-87325ca5a0cc"
      },
      "outputs": [
        {
          "output_type": "stream",
          "name": "stdout",
          "text": [
            "['ak0956', 'ms1500', 'nv0234', 'sg1297', 'sc1229']\n",
            "['sa1198', 'hy0232', 'sk1313', 'kg0470', 'gn0108', 'vm0377']\n",
            "['jl1252', 'ds0814', 'aos0040', 'dr0609']\n",
            "['av0659', 'pr0353', 'bg0320', 'sk1390', 'sm1907', 'kg0569']\n",
            "['sb1357', 'sm1640', 'sk1458', 'ja0964', 'fh0141']\n",
            "['ak0934', 'sk1386', 'nm0618', 'vb0218']\n"
          ]
        }
      ],
      "source": [
        "# write your answer here\n",
        "import numpy as np, random\n",
        "studnet_list = ['ja0964','sa1198','sb1357','vb0218','sc1229','kg0569','kg0470','sg1297','bg0320','fh0141','jl1252','sk1386', 'ak0956','sk1390','sk1458','sk1313','ak0934','vm0377','nm0618','sm1640','sm1907','gn0108','pr0353','dr0609','ms1500','aos0040','ds0814', 'av0659','nv0234','hy0232']\n",
        "\n",
        "# the len_group numbers sum upto 30\n",
        "len_group = [5, 6, 4, 6, 5, 4]\n",
        "result = []\n",
        "for length in len_group:\n",
        "  # generating a sample of length in len_group  \n",
        "  group = random.sample(studnet_list, length)\n",
        "  # remove those elements from the studnet_list that are in group sample,\n",
        "  # so that the next time those elements will not be in another sample. \n",
        "  studnet_list = list(set(studnet_list) ^ set(group))\n",
        "  # Adding the random sample to a resultant 2d array.\n",
        "  result = result + [group]\n",
        "    \n",
        "# printing the 6 groups.\n",
        "for row in result:\n",
        "    print(row, end= '\\n')"
      ]
    },
    {
      "cell_type": "markdown",
      "metadata": {
        "id": "kzhvTbPTRfkV"
      },
      "source": [
        "(9) Write a Python program to find the duplicate elements in a given array of integers. Return -1 If there are no such elements. (5 points)"
      ]
    },
    {
      "cell_type": "code",
      "execution_count": 48,
      "metadata": {
        "id": "bRSzxHPIRfkW",
        "colab": {
          "base_uri": "https://localhost:8080/"
        },
        "outputId": "1ad1e9d9-6709-44c4-8eba-cc5c9d275f43"
      },
      "outputs": [
        {
          "output_type": "stream",
          "name": "stdout",
          "text": [
            "2, 3, 4, 5, "
          ]
        }
      ],
      "source": [
        "from numpy.core.defchararray import endswith\n",
        "# write your answer here\n",
        "import numpy as np\n",
        "arr = np.array([2, 3, 4, 5, 3, 4, 5, 3, 5, 4, 7, 8, 3, 6, 2])\n",
        "#arr = np.array([2, 3, 4, 5])\n",
        "\n",
        "flag = 0\n",
        "\n",
        "for num in set(arr):\n",
        "  # get the count of occurences that are greater than 1.\n",
        "  if np.count_nonzero(arr == num) > 1:\n",
        "    flag = 1\n",
        "    print(num, end = ', ')\n",
        "\n",
        "# if there are no duplicate elements, tehn we print '-1'.\n",
        "if flag == 0:\n",
        "  print(\"-1\")"
      ]
    },
    {
      "cell_type": "markdown",
      "metadata": {
        "id": "Hv07JbiSRfkX"
      },
      "source": [
        "(10) Write a Python program to select all the Sundays of a specified year. (5 extra points)"
      ]
    },
    {
      "cell_type": "code",
      "execution_count": 59,
      "metadata": {
        "id": "XzXzaOkCRfkX",
        "colab": {
          "base_uri": "https://localhost:8080/"
        },
        "outputId": "cfc19d10-225d-44e9-a740-d28d75ed33d5"
      },
      "outputs": [
        {
          "name": "stdout",
          "output_type": "stream",
          "text": [
            "Enter the year you want to get Sundays of: 2018\n"
          ]
        },
        {
          "output_type": "execute_result",
          "data": {
            "text/plain": [
              "['07-January-2018',\n",
              " '14-January-2018',\n",
              " '21-January-2018',\n",
              " '28-January-2018',\n",
              " '04-February-2018',\n",
              " '11-February-2018',\n",
              " '18-February-2018',\n",
              " '25-February-2018',\n",
              " '04-March-2018',\n",
              " '11-March-2018',\n",
              " '18-March-2018',\n",
              " '25-March-2018',\n",
              " '01-April-2018',\n",
              " '08-April-2018',\n",
              " '15-April-2018',\n",
              " '22-April-2018',\n",
              " '29-April-2018',\n",
              " '06-May-2018',\n",
              " '13-May-2018',\n",
              " '20-May-2018',\n",
              " '27-May-2018',\n",
              " '03-June-2018',\n",
              " '10-June-2018',\n",
              " '17-June-2018',\n",
              " '24-June-2018',\n",
              " '01-July-2018',\n",
              " '08-July-2018',\n",
              " '15-July-2018',\n",
              " '22-July-2018',\n",
              " '29-July-2018',\n",
              " '05-August-2018',\n",
              " '12-August-2018',\n",
              " '19-August-2018',\n",
              " '26-August-2018',\n",
              " '02-September-2018',\n",
              " '09-September-2018',\n",
              " '16-September-2018',\n",
              " '23-September-2018',\n",
              " '30-September-2018',\n",
              " '07-October-2018',\n",
              " '14-October-2018',\n",
              " '21-October-2018',\n",
              " '28-October-2018',\n",
              " '04-November-2018',\n",
              " '11-November-2018',\n",
              " '18-November-2018',\n",
              " '25-November-2018',\n",
              " '02-December-2018',\n",
              " '09-December-2018',\n",
              " '16-December-2018',\n",
              " '23-December-2018',\n",
              " '30-December-2018']"
            ]
          },
          "metadata": {},
          "execution_count": 59
        }
      ],
      "source": [
        "# write your answer here\n",
        "import pandas as pd\n",
        "\n",
        "def all_sundays(year):\n",
        "  # date_range(): we specify year and frequency and strftime to determine the output format.\n",
        "  return pd.date_range(start=str(year), end=str(year+1), freq='W-SUN').strftime('%d-%B-%Y').tolist()\n",
        "\n",
        "year = int(input(\"Enter the year you want to get Sundays of: \"))\n",
        "all_sundays(year)"
      ]
    },
    {
      "cell_type": "code",
      "source": [
        ""
      ],
      "metadata": {
        "id": "utOUrLOQfMOE"
      },
      "execution_count": null,
      "outputs": []
    }
  ],
  "metadata": {
    "colab": {
      "collapsed_sections": [],
      "name": "lab_assignment_01.ipynb",
      "provenance": [],
      "include_colab_link": true
    },
    "kernelspec": {
      "display_name": "Python 3",
      "language": "python",
      "name": "python3"
    },
    "language_info": {
      "codemirror_mode": {
        "name": "ipython",
        "version": 3
      },
      "file_extension": ".py",
      "mimetype": "text/x-python",
      "name": "python",
      "nbconvert_exporter": "python",
      "pygments_lexer": "ipython3",
      "version": "3.8.5"
    }
  },
  "nbformat": 4,
  "nbformat_minor": 0
}