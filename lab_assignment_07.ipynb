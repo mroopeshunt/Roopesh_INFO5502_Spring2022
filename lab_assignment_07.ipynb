{
  "cells": [
    {
      "cell_type": "markdown",
      "metadata": {
        "id": "view-in-github",
        "colab_type": "text"
      },
      "source": [
        "<a href=\"https://colab.research.google.com/github/mroopeshunt/Roopesh_INFO5502_Spring2022/blob/main/lab_assignment_07.ipynb\" target=\"_parent\"><img src=\"https://colab.research.google.com/assets/colab-badge.svg\" alt=\"Open In Colab\"/></a>"
      ]
    },
    {
      "cell_type": "markdown",
      "metadata": {
        "id": "_-SUni763oSt"
      },
      "source": [
        "## The seventh Lab-assignment (03/31/2022, 50 points in total)"
      ]
    },
    {
      "cell_type": "markdown",
      "metadata": {
        "id": "nOxk1DB63oSx"
      },
      "source": [
        "The purpose of this exercise is to build several regression models based on real-world datasets. "
      ]
    },
    {
      "cell_type": "markdown",
      "metadata": {
        "id": "46MZW_mS3oSy"
      },
      "source": [
        "### Question 1 (25 points) Build a regession model to predict the change in price of the stock overtime. It can either be linear regression or non-linear regression. You can download the dataset from here: https://github.com/unt-iialab/info5502-spring2022/blob/main/datasets/portfolio_data.csv. The implementation of the LSTM on this same dataset was posted here as an reference: https://www.kaggle.com/code/faressayah/stock-market-analysis-prediction-using-lstm/notebook"
      ]
    },
    {
      "cell_type": "code",
      "source": [
        "from google.colab import drive\n",
        "drive.mount('/content/gdrive')"
      ],
      "metadata": {
        "colab": {
          "base_uri": "https://localhost:8080/"
        },
        "id": "xXpuOeiY3vWk",
        "outputId": "28e3987c-4b25-4312-e35f-1b7ff0760a84"
      },
      "execution_count": 3,
      "outputs": [
        {
          "output_type": "stream",
          "name": "stdout",
          "text": [
            "Drive already mounted at /content/gdrive; to attempt to forcibly remount, call drive.mount(\"/content/gdrive\", force_remount=True).\n"
          ]
        }
      ]
    },
    {
      "cell_type": "code",
      "execution_count": 4,
      "metadata": {
        "id": "E-y_DG793oSz"
      },
      "outputs": [],
      "source": [
        "### You code here\n",
        "import pandas as pd\n",
        "\n",
        "# load the dataset\n",
        "data = pd.read_csv(\"/content/gdrive/My Drive/INFO_5502_Datasets/portfolio_data.csv\")"
      ]
    },
    {
      "cell_type": "code",
      "execution_count": 5,
      "metadata": {
        "colab": {
          "base_uri": "https://localhost:8080/",
          "height": 206
        },
        "id": "SkgAMDgm3oS1",
        "outputId": "003de311-7479-428f-b96b-e4323869014e"
      },
      "outputs": [
        {
          "output_type": "execute_result",
          "data": {
            "text/plain": [
              "       Date        AMZN        DPZ         BTC       NFLX\n",
              "0  5/1/2013  248.229996  51.190983  106.250000  30.415714\n",
              "1  5/2/2013  252.550003  51.987320   98.099998  30.641428\n",
              "2  5/3/2013  258.049988  52.446388  112.900002  30.492857\n",
              "3  5/6/2013  255.720001  53.205257  109.599998  30.098572\n",
              "4  5/7/2013  257.730011  54.151505  113.199997  29.464285"
            ],
            "text/html": [
              "\n",
              "  <div id=\"df-0f37e338-856f-437c-9070-7714ffcceea9\">\n",
              "    <div class=\"colab-df-container\">\n",
              "      <div>\n",
              "<style scoped>\n",
              "    .dataframe tbody tr th:only-of-type {\n",
              "        vertical-align: middle;\n",
              "    }\n",
              "\n",
              "    .dataframe tbody tr th {\n",
              "        vertical-align: top;\n",
              "    }\n",
              "\n",
              "    .dataframe thead th {\n",
              "        text-align: right;\n",
              "    }\n",
              "</style>\n",
              "<table border=\"1\" class=\"dataframe\">\n",
              "  <thead>\n",
              "    <tr style=\"text-align: right;\">\n",
              "      <th></th>\n",
              "      <th>Date</th>\n",
              "      <th>AMZN</th>\n",
              "      <th>DPZ</th>\n",
              "      <th>BTC</th>\n",
              "      <th>NFLX</th>\n",
              "    </tr>\n",
              "  </thead>\n",
              "  <tbody>\n",
              "    <tr>\n",
              "      <th>0</th>\n",
              "      <td>5/1/2013</td>\n",
              "      <td>248.229996</td>\n",
              "      <td>51.190983</td>\n",
              "      <td>106.250000</td>\n",
              "      <td>30.415714</td>\n",
              "    </tr>\n",
              "    <tr>\n",
              "      <th>1</th>\n",
              "      <td>5/2/2013</td>\n",
              "      <td>252.550003</td>\n",
              "      <td>51.987320</td>\n",
              "      <td>98.099998</td>\n",
              "      <td>30.641428</td>\n",
              "    </tr>\n",
              "    <tr>\n",
              "      <th>2</th>\n",
              "      <td>5/3/2013</td>\n",
              "      <td>258.049988</td>\n",
              "      <td>52.446388</td>\n",
              "      <td>112.900002</td>\n",
              "      <td>30.492857</td>\n",
              "    </tr>\n",
              "    <tr>\n",
              "      <th>3</th>\n",
              "      <td>5/6/2013</td>\n",
              "      <td>255.720001</td>\n",
              "      <td>53.205257</td>\n",
              "      <td>109.599998</td>\n",
              "      <td>30.098572</td>\n",
              "    </tr>\n",
              "    <tr>\n",
              "      <th>4</th>\n",
              "      <td>5/7/2013</td>\n",
              "      <td>257.730011</td>\n",
              "      <td>54.151505</td>\n",
              "      <td>113.199997</td>\n",
              "      <td>29.464285</td>\n",
              "    </tr>\n",
              "  </tbody>\n",
              "</table>\n",
              "</div>\n",
              "      <button class=\"colab-df-convert\" onclick=\"convertToInteractive('df-0f37e338-856f-437c-9070-7714ffcceea9')\"\n",
              "              title=\"Convert this dataframe to an interactive table.\"\n",
              "              style=\"display:none;\">\n",
              "        \n",
              "  <svg xmlns=\"http://www.w3.org/2000/svg\" height=\"24px\"viewBox=\"0 0 24 24\"\n",
              "       width=\"24px\">\n",
              "    <path d=\"M0 0h24v24H0V0z\" fill=\"none\"/>\n",
              "    <path d=\"M18.56 5.44l.94 2.06.94-2.06 2.06-.94-2.06-.94-.94-2.06-.94 2.06-2.06.94zm-11 1L8.5 8.5l.94-2.06 2.06-.94-2.06-.94L8.5 2.5l-.94 2.06-2.06.94zm10 10l.94 2.06.94-2.06 2.06-.94-2.06-.94-.94-2.06-.94 2.06-2.06.94z\"/><path d=\"M17.41 7.96l-1.37-1.37c-.4-.4-.92-.59-1.43-.59-.52 0-1.04.2-1.43.59L10.3 9.45l-7.72 7.72c-.78.78-.78 2.05 0 2.83L4 21.41c.39.39.9.59 1.41.59.51 0 1.02-.2 1.41-.59l7.78-7.78 2.81-2.81c.8-.78.8-2.07 0-2.86zM5.41 20L4 18.59l7.72-7.72 1.47 1.35L5.41 20z\"/>\n",
              "  </svg>\n",
              "      </button>\n",
              "      \n",
              "  <style>\n",
              "    .colab-df-container {\n",
              "      display:flex;\n",
              "      flex-wrap:wrap;\n",
              "      gap: 12px;\n",
              "    }\n",
              "\n",
              "    .colab-df-convert {\n",
              "      background-color: #E8F0FE;\n",
              "      border: none;\n",
              "      border-radius: 50%;\n",
              "      cursor: pointer;\n",
              "      display: none;\n",
              "      fill: #1967D2;\n",
              "      height: 32px;\n",
              "      padding: 0 0 0 0;\n",
              "      width: 32px;\n",
              "    }\n",
              "\n",
              "    .colab-df-convert:hover {\n",
              "      background-color: #E2EBFA;\n",
              "      box-shadow: 0px 1px 2px rgba(60, 64, 67, 0.3), 0px 1px 3px 1px rgba(60, 64, 67, 0.15);\n",
              "      fill: #174EA6;\n",
              "    }\n",
              "\n",
              "    [theme=dark] .colab-df-convert {\n",
              "      background-color: #3B4455;\n",
              "      fill: #D2E3FC;\n",
              "    }\n",
              "\n",
              "    [theme=dark] .colab-df-convert:hover {\n",
              "      background-color: #434B5C;\n",
              "      box-shadow: 0px 1px 3px 1px rgba(0, 0, 0, 0.15);\n",
              "      filter: drop-shadow(0px 1px 2px rgba(0, 0, 0, 0.3));\n",
              "      fill: #FFFFFF;\n",
              "    }\n",
              "  </style>\n",
              "\n",
              "      <script>\n",
              "        const buttonEl =\n",
              "          document.querySelector('#df-0f37e338-856f-437c-9070-7714ffcceea9 button.colab-df-convert');\n",
              "        buttonEl.style.display =\n",
              "          google.colab.kernel.accessAllowed ? 'block' : 'none';\n",
              "\n",
              "        async function convertToInteractive(key) {\n",
              "          const element = document.querySelector('#df-0f37e338-856f-437c-9070-7714ffcceea9');\n",
              "          const dataTable =\n",
              "            await google.colab.kernel.invokeFunction('convertToInteractive',\n",
              "                                                     [key], {});\n",
              "          if (!dataTable) return;\n",
              "\n",
              "          const docLinkHtml = 'Like what you see? Visit the ' +\n",
              "            '<a target=\"_blank\" href=https://colab.research.google.com/notebooks/data_table.ipynb>data table notebook</a>'\n",
              "            + ' to learn more about interactive tables.';\n",
              "          element.innerHTML = '';\n",
              "          dataTable['output_type'] = 'display_data';\n",
              "          await google.colab.output.renderOutput(dataTable, element);\n",
              "          const docLink = document.createElement('div');\n",
              "          docLink.innerHTML = docLinkHtml;\n",
              "          element.appendChild(docLink);\n",
              "        }\n",
              "      </script>\n",
              "    </div>\n",
              "  </div>\n",
              "  "
            ]
          },
          "metadata": {},
          "execution_count": 5
        }
      ],
      "source": [
        "data.head(5)"
      ]
    },
    {
      "cell_type": "code",
      "execution_count": 6,
      "metadata": {
        "colab": {
          "base_uri": "https://localhost:8080/"
        },
        "id": "4l31Jr_x3oS2",
        "outputId": "979ffd41-a9b5-4780-b355-556606e05436"
      },
      "outputs": [
        {
          "output_type": "stream",
          "name": "stdout",
          "text": [
            "RMSE score is 21.479712235055025\n",
            "R2 Score is 0.9597280743181571\n"
          ]
        }
      ],
      "source": [
        "# dropping Date and NFLX xolumns\n",
        "x = data.drop(['Date', 'NFLX'], axis = 1)\n",
        "\n",
        "# target column\n",
        "y = data['NFLX']\n",
        "\n",
        "#split the  data in train and test\n",
        "from sklearn.model_selection import train_test_split\n",
        "from sklearn.linear_model import LinearRegression\n",
        "from sklearn.metrics import mean_squared_error, r2_score\n",
        "import numpy as np\n",
        "\n",
        "# spliting the dataset\n",
        "xtrain, xtest, ytrain, ytest = train_test_split(x, y, test_size = 0.2, random_state = 0)\n",
        "\n",
        "# fitting the linear regressoin model\n",
        "lm = LinearRegression()\n",
        "lm.fit(xtrain, ytrain)\n",
        "\n",
        "# applying the model on test data\n",
        "ypred = lm.predict(xtest)\n",
        "\n",
        "# metrics to evaluate the regressor model\n",
        "print(\"RMSE score is\",np.sqrt(mean_squared_error(ytest, ypred)))\n",
        "print(\"R2 Score is\", r2_score(ytest, ypred))"
      ]
    },
    {
      "cell_type": "code",
      "execution_count": 7,
      "metadata": {
        "colab": {
          "base_uri": "https://localhost:8080/"
        },
        "id": "C48crk613oS3",
        "outputId": "b57e1939-8ebd-40e2-f850-e84aee465b9e"
      },
      "outputs": [
        {
          "output_type": "stream",
          "name": "stdout",
          "text": [
            "RMSE score is 14.29130025782322\n",
            "R2 Score is 0.9821725606878092\n"
          ]
        }
      ],
      "source": [
        "from sklearn.tree import DecisionTreeRegressor\n",
        "\n",
        "xtrain, xtest, ytrain, ytest = train_test_split(x, y, test_size = 0.2, random_state = 0)\n",
        "\n",
        "# fitting the decision tree regressor model\n",
        "dt_reg = DecisionTreeRegressor()\n",
        "dt_reg.fit(xtrain, ytrain)\n",
        "\n",
        "ypred = dt_reg.predict(xtest)\n",
        "\n",
        "# metrics to evaluate the decision tree regressor model\n",
        "print(\"RMSE score is\",np.sqrt(mean_squared_error(ytest, ypred)))\n",
        "print(\"R2 Score is\", r2_score(ytest, ypred))"
      ]
    },
    {
      "cell_type": "code",
      "execution_count": 8,
      "metadata": {
        "colab": {
          "base_uri": "https://localhost:8080/"
        },
        "id": "l7QJt7D03oS4",
        "outputId": "a18bb630-0f64-40da-833b-8ca82294b187"
      },
      "outputs": [
        {
          "output_type": "stream",
          "name": "stdout",
          "text": [
            "RMSE score is 11.106742773748609\n",
            "R2 Score is 0.9892324001668802\n"
          ]
        }
      ],
      "source": [
        "from sklearn.ensemble import RandomForestRegressor\n",
        "\n",
        "xtrain, xtest, ytrain, ytest = train_test_split(x, y, test_size = 0.2, random_state = 0)\n",
        "\n",
        "# fitting the random forest model\n",
        "rfreg = RandomForestRegressor(random_state=211)\n",
        "rfreg.fit(xtrain, ytrain)\n",
        "\n",
        "# metrics to evaluate the random forest regressor model\n",
        "rfregpred = rfreg.predict(xtest)\n",
        "print(\"RMSE score is\",np.sqrt(mean_squared_error(ytest, rfregpred)))\n",
        "print(\"R2 Score is\", r2_score(ytest, rfregpred))"
      ]
    },
    {
      "cell_type": "code",
      "execution_count": 8,
      "metadata": {
        "id": "vJhJ4O-53oS5"
      },
      "outputs": [],
      "source": [
        ""
      ]
    },
    {
      "cell_type": "markdown",
      "metadata": {
        "id": "KdNTE8ou3oS5"
      },
      "source": [
        "### Question 2 (25 points) The objective of this task is to detect hate speech in tweets. For the sake of simplicity, we say a tweet contains hate speech if it has a racist or sexist sentiment associated with it. So, the task is to classify racist or sexist tweets from other tweets. Formally, given a training sample of tweets and labels, where label '1' denotes the tweet is racist/sexist and label '0' denotes the tweet is not racist/sexist, your objective is to predict the labels on the test dataset. The dataset can be downloaded here: https://github.com/unt-iialab/info5502-spring2022/tree/main/datasets/Twitter%20Sentiment%20Analysis. Please build a logistic regression model for the classification, evaluation metrics include accuracy, precision, recall, and F-1 score need to be reported. "
      ]
    },
    {
      "cell_type": "code",
      "execution_count": 9,
      "metadata": {
        "colab": {
          "base_uri": "https://localhost:8080/"
        },
        "id": "yvLQUMy_3oS6",
        "outputId": "c4560343-c236-4a4d-ec90-892424985ee9"
      },
      "outputs": [
        {
          "output_type": "stream",
          "name": "stdout",
          "text": [
            "[nltk_data] Downloading package stopwords to /root/nltk_data...\n",
            "[nltk_data]   Unzipping corpora/stopwords.zip.\n"
          ]
        },
        {
          "output_type": "stream",
          "name": "stderr",
          "text": [
            "/usr/local/lib/python3.7/dist-packages/ipykernel_launcher.py:25: FutureWarning: The default value of regex will change from True to False in a future version.\n"
          ]
        },
        {
          "output_type": "stream",
          "name": "stdout",
          "text": [
            "[nltk_data] Downloading package wordnet to /root/nltk_data...\n",
            "[nltk_data]   Unzipping corpora/wordnet.zip.\n"
          ]
        }
      ],
      "source": [
        "### You code here:\n",
        "\n",
        "import pandas as pd\n",
        "import re\n",
        "from nltk.corpus import stopwords\n",
        "from sklearn.feature_extraction.text import TfidfVectorizer\n",
        "from sklearn.metrics import classification_report, confusion_matrix\n",
        "from sklearn.model_selection import train_test_split\n",
        "from sklearn.feature_selection import SelectKBest, chi2\n",
        "\n",
        "from sklearn.ensemble import RandomForestClassifier\n",
        "import sqlite3\n",
        "import pickle\n",
        "import nltk\n",
        "nltk.download('stopwords')\n",
        "\n",
        "# load the dataset\n",
        "data = pd.read_csv(\"/content/gdrive/My Drive/INFO_5502_Datasets/train.csv\")\n",
        "\n",
        "# getting stopwords of english\n",
        "stopwords = stopwords.words(\"english\")\n",
        "stopwords = [re.sub('[^a-zA-Z0-9]+', '', word) for word in stopwords]\n",
        "\n",
        "# removing all special characters\n",
        "data['cleaned_tweets'] = data['tweet'].str.replace('[^a-zA-Z0-9 ]', '')\n",
        "data['cleaned_tweets'] = data['cleaned_tweets'].apply(lambda x: ' '.join([word for word in x.split() if word not in (stopwords)]))\n",
        "\n",
        "from nltk.stem import WordNetLemmatizer\n",
        "import nltk\n",
        "nltk.download('wordnet')\n",
        "wordnet_lemmatizer = WordNetLemmatizer()\n",
        "\n",
        "# applying lemmatization on the tweets\n",
        "data['cleaned_tweets'] = data['cleaned_tweets'].apply(lambda row: \" \".join(wordnet_lemmatizer.lemmatize(word, pos=\"v\") for word in row.split()))\n",
        "data['cleaned_tweets'] = data['cleaned_tweets'].apply(lambda row: \" \".join(wordnet_lemmatizer.lemmatize(word, pos=\"n\") for word in row.split()))\n",
        "data['cleaned_tweets'] = data['cleaned_tweets'].apply(lambda row: \" \".join(wordnet_lemmatizer.lemmatize(word, pos=\"a\") for word in row.split()))\n",
        "data['cleaned_tweets'] = data['cleaned_tweets'].apply(lambda row: \" \".join(wordnet_lemmatizer.lemmatize(word, pos=\"r\") for word in row.split()))"
      ]
    },
    {
      "cell_type": "code",
      "execution_count": 10,
      "metadata": {
        "colab": {
          "base_uri": "https://localhost:8080/"
        },
        "id": "6YNHQRLC3oS8",
        "outputId": "13b2845c-8d98-405b-aa27-adcd9f6e746d"
      },
      "outputs": [
        {
          "output_type": "stream",
          "name": "stdout",
          "text": [
            "Classification Report\n",
            "              precision    recall  f1-score   support\n",
            "\n",
            "           0       0.95      1.00      0.97      5952\n",
            "           1       0.96      0.31      0.46       441\n",
            "\n",
            "    accuracy                           0.95      6393\n",
            "   macro avg       0.95      0.65      0.72      6393\n",
            "weighted avg       0.95      0.95      0.94      6393\n",
            "\n",
            "Confusion Matrix:\n",
            "[[5946    6]\n",
            " [ 306  135]]\n"
          ]
        }
      ],
      "source": [
        "from sklearn.linear_model import LogisticRegression\n",
        "X = data['cleaned_tweets']\n",
        "Y = data['label']\n",
        "\n",
        "# initializing tf-idf vectorizer\n",
        "vectorizer = TfidfVectorizer(min_df = 3, ngram_range=(1, 2))\n",
        "\n",
        "# fitting the train data and generating the features\n",
        "vectorizer = vectorizer.fit(X)\n",
        "\n",
        "# transforming the data using vectorizer model that is fit using train data \n",
        "X_features = vectorizer.transform(X).toarray()\n",
        "\n",
        "# split the dataset\n",
        "X_train, X_test, y_train, y_test = train_test_split(X_features, Y, test_size=0.2)\n",
        "\n",
        "# fitting the logistic regression\n",
        "lr = LogisticRegression()\n",
        "model = lr.fit(X_train, y_train)\n",
        "\n",
        "# evaluating the model\n",
        "print(\"Classification Report\")\n",
        "print(classification_report(y_test, model.predict(X_test)))\n",
        "\n",
        "print(\"Confusion Matrix:\")\n",
        "print(confusion_matrix(y_test, model.predict(X_test)))"
      ]
    },
    {
      "cell_type": "code",
      "execution_count": 11,
      "metadata": {
        "colab": {
          "base_uri": "https://localhost:8080/"
        },
        "id": "rqAgkOEs3oS-",
        "outputId": "8a0f0be7-10c2-4cf2-dbcb-db9afbe90e9c"
      },
      "outputs": [
        {
          "output_type": "stream",
          "name": "stdout",
          "text": [
            "(31962, 17047)\n"
          ]
        }
      ],
      "source": [
        "print(X_features.shape)"
      ]
    },
    {
      "cell_type": "code",
      "execution_count": 12,
      "metadata": {
        "colab": {
          "base_uri": "https://localhost:8080/"
        },
        "id": "R0qXxFR93oS_",
        "outputId": "ad677bbe-97c3-435d-da3c-c4fe6ff37ec5"
      },
      "outputs": [
        {
          "output_type": "stream",
          "name": "stderr",
          "text": [
            "/usr/local/lib/python3.7/dist-packages/ipykernel_launcher.py:3: FutureWarning: The default value of regex will change from True to False in a future version.\n",
            "  This is separate from the ipykernel package so we can avoid doing imports until\n"
          ]
        },
        {
          "output_type": "stream",
          "name": "stdout",
          "text": [
            "(17197, 17047)\n",
            "[0 0 0 ... 0 0 0]\n"
          ]
        }
      ],
      "source": [
        "test_data = pd.read_csv(\"/content/gdrive/My Drive/INFO_5502_Datasets/test.csv\")\n",
        "\n",
        "test_data['cleaned_tweets'] = test_data['tweet'].str.replace('[^a-zA-Z0-9 ]', '')\n",
        "test_data['cleaned_tweets'] = test_data['cleaned_tweets'].apply(lambda x: ' '.join([word for word in x.split() if word not in (stopwords)]))\n",
        "\n",
        "test_data['cleaned_tweets'] = test_data['cleaned_tweets'].apply(lambda row: \" \".join(wordnet_lemmatizer.lemmatize(word, pos=\"v\") for word in row.split()))\n",
        "test_data['cleaned_tweets'] = test_data['cleaned_tweets'].apply(lambda row: \" \".join(wordnet_lemmatizer.lemmatize(word, pos=\"n\") for word in row.split()))\n",
        "test_data['cleaned_tweets'] = test_data['cleaned_tweets'].apply(lambda row: \" \".join(wordnet_lemmatizer.lemmatize(word, pos=\"a\") for word in row.split()))\n",
        "test_data['cleaned_tweets'] = test_data['cleaned_tweets'].apply(lambda row: \" \".join(wordnet_lemmatizer.lemmatize(word, pos=\"r\") for word in row.split()))\n",
        "\n",
        "# vectorizer.fit_transform(data['cleaned_tweets']).toarray()\n",
        "test_data_features = vectorizer.transform(test_data['cleaned_tweets'])#.toarray()\n",
        "print(test_data_features.shape)\n",
        "\n",
        "\n",
        "#print(classification_report(y_test, model.predict(test_data_features)))\n",
        "#print(confusion_matrix(y_test, model.predict(test_data_features)))\n",
        "\n",
        "test_data_pred = model.predict(test_data_features)\n",
        "print(test_data_pred)"
      ]
    },
    {
      "cell_type": "code",
      "execution_count": 12,
      "metadata": {
        "id": "_t_zP7pt3oTA"
      },
      "outputs": [],
      "source": [
        ""
      ]
    }
  ],
  "metadata": {
    "kernelspec": {
      "display_name": "Python 3 (ipykernel)",
      "language": "python",
      "name": "python3"
    },
    "language_info": {
      "codemirror_mode": {
        "name": "ipython",
        "version": 3
      },
      "file_extension": ".py",
      "mimetype": "text/x-python",
      "name": "python",
      "nbconvert_exporter": "python",
      "pygments_lexer": "ipython3",
      "version": "3.9.7"
    },
    "colab": {
      "name": "lab_assignment_07.ipynb",
      "provenance": [],
      "collapsed_sections": [],
      "include_colab_link": true
    }
  },
  "nbformat": 4,
  "nbformat_minor": 0
}